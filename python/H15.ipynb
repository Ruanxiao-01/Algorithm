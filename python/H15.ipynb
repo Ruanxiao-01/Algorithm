{
 "cells": [
  {
   "cell_type": "code",
   "execution_count": 1,
   "metadata": {},
   "outputs": [
    {
     "name": "stdout",
     "output_type": "stream",
     "text": [
      "The original array： [1, 2, 5, 6, 9, 10, 15]\n",
      "After Interpolation search, the number we search is at index 5\n"
     ]
    }
   ],
   "source": [
    "#Interpolation Search\n",
    "def Interpolation_search(my_list, key):\n",
    "    left = 0\n",
    "    right = len(my_list)-1\n",
    "    while left <= right:\n",
    "        mid = left + int((right - left) * (key - my_list[left]) / (my_list[right] - my_list[left]))\n",
    "        if key < my_list[mid]:\n",
    "            right = mid - 1\n",
    "        elif key > my_list[mid]:\n",
    "            left = mid + 1\n",
    "        else:\n",
    "            return mid\n",
    "    return \"None\"\n",
    "\n",
    "\n",
    "if __name__ == \"__main__\":\n",
    "    my_list = [1, 2, 5, 6, 9, 10, 15]\n",
    "    print(\"The original array：\", my_list)\n",
    "    print(\"After Interpolation search, the number we search is at index\", Interpolation_search(my_list, 10))\n",
    "\n"
   ]
  },
  {
   "cell_type": "code",
   "execution_count": 3,
   "metadata": {},
   "outputs": [
    {
     "name": "stdout",
     "output_type": "stream",
     "text": [
      "K-th smallest element is 23\n"
     ]
    }
   ],
   "source": [
    "#Quick Select\n",
    "def partition(arr,l,r):\n",
    "    x = arr[r]\n",
    "    i = l\n",
    "    for j in range(l,r):\n",
    "        if arr[j] <= x:\n",
    "            arr[i], arr[j] = arr[j], arr[i]\n",
    "            i+=1\n",
    "    arr[i], arr[r] = arr[r], arr[i]\n",
    "    return i\n",
    "\n",
    "def selection(arr, l, r, k):\n",
    "    if(k > 0 and k <= r - l + 1):\n",
    "        index = partition(arr, l, r)\n",
    "        \n",
    "        if(index - l == k -1):\n",
    "            return arr[index]\n",
    "        \n",
    "        if(index - l > k - 1):\n",
    "            return selection(arr, l, index - 1, k)\n",
    "        \n",
    "        return selection(arr, index + 1, r, k-index +l -1)\n",
    "    print(\"Index out of bond\")\n",
    "    \n",
    "\n",
    "arr = [ 23, 35, 52, 18, 26, 11, 36 ]\n",
    "n = len(arr)\n",
    "k = 3\n",
    "print(\"K-th smallest element is \", end = \"\")\n",
    "print(selection(arr, 0, n - 1, k))"
   ]
  },
  {
   "cell_type": "code",
   "execution_count": null,
   "metadata": {},
   "outputs": [],
   "source": []
  }
 ],
 "metadata": {
  "kernelspec": {
   "display_name": "Python 3",
   "language": "python",
   "name": "python3"
  },
  "language_info": {
   "codemirror_mode": {
    "name": "ipython",
    "version": 3
   },
   "file_extension": ".py",
   "mimetype": "text/x-python",
   "name": "python",
   "nbconvert_exporter": "python",
   "pygments_lexer": "ipython3",
   "version": "3.7.4"
  }
 },
 "nbformat": 4,
 "nbformat_minor": 2
}
