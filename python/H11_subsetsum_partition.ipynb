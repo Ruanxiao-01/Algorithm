{
 "cells": [
  {
   "cell_type": "code",
   "execution_count": 3,
   "metadata": {},
   "outputs": [
    {
     "name": "stdout",
     "output_type": "stream",
     "text": [
      "Found a subset with given sum\n"
     ]
    }
   ],
   "source": [
    "# Subset-Sum Problem\n",
    "def isSubsetSum(set, n, sum) :\n",
    "    if (sum == 0):\n",
    "        return True\n",
    "    if (n == 0 and sum != 0) :\n",
    "        return False\n",
    "    \n",
    "    if (set[n - 1] > sum) :\n",
    "        return isSubsetSum(set, n - 1, sum);\n",
    "    \n",
    "    return isSubsetSum(set, n-1, sum) or isSubsetSum(set, n-1, sum-set[n-1])\n",
    "\n",
    "set = [2,35,46,26,12,6,13]\n",
    "sum = 72\n",
    "n = len(set)\n",
    "if (isSubsetSum(set, n, sum) == True):\n",
    "    print(\"Found a subset with given sum\")\n",
    "else:\n",
    "    print(\"No subset with given sum\")\n",
    " "
   ]
  },
  {
   "cell_type": "code",
   "execution_count": 2,
   "metadata": {},
   "outputs": [
    {
     "name": "stdout",
     "output_type": "stream",
     "text": [
      "Sum of the maximum range: 17\n",
      "9 8 | 7 1 2 3 4 | 5 6 \r\n"
     ]
    }
   ],
   "source": [
    "# Partition Problem\n",
    "import numpy as np\n",
    "def partition(sequence, M, nr_partitions, sum_array):\n",
    "    for n in range(2, len(sequence) + 1):\n",
    "        for k in range(2, nr_partitions + 1):\n",
    "            array = []\n",
    "            for i in range(1, n + 1):\n",
    "                select = max(M[i][k - 1], sum_array[n - 1] - sum_array[i - 1])\n",
    "                array.append(select)\n",
    "            M[n][k] = min(array)\n",
    "    return M[len(sequence)][nr_partitions]\n",
    "def matrix(sequence, nr_partitions, M, sum_array):\n",
    "    for index in range(len(sequence)):\n",
    "        sum_array.append(sum(sequence[: index + 1]))\n",
    "    for k in range(1, nr_partitions + 1):\n",
    "        M[1][k] = sequence[0]\n",
    "    for n in range(1, len(sequence) + 1):\n",
    "        M[n][1] = sum(sequence[:n])\n",
    "if __name__ == \"__main__\":\n",
    "    sequence = [9, 8, 7, 1, 2, 3, 4, 5, 6]\n",
    "    partitions = 3\n",
    "    \n",
    "    M = np.zeros((len(sequence) + 1, partitions + 1), dtype=int)\n",
    "    sum_array = []\n",
    "    matrix(sequence, partitions, M, sum_array)\n",
    "    \n",
    "    range_sum_max = partition(sequence, M, partitions, sum_array)\n",
    "    print(\"Sum of the maximum range:\", range_sum_max)\n",
    "\n",
    "    current_sum = 0\n",
    "    for index in range(len(sequence)):\n",
    "        if (current_sum + sequence[index]) > range_sum_max:\n",
    "            print(\"| \", end=\"\")\n",
    "            current_sum = 0\n",
    "        current_sum += sequence[index]\n",
    "        print(sequence[index], end=\" \")\n",
    "    print(\"\\r\")    "
   ]
  },
  {
   "cell_type": "code",
   "execution_count": null,
   "metadata": {},
   "outputs": [],
   "source": []
  }
 ],
 "metadata": {
  "kernelspec": {
   "display_name": "Python 3",
   "language": "python",
   "name": "python3"
  },
  "language_info": {
   "codemirror_mode": {
    "name": "ipython",
    "version": 3
   },
   "file_extension": ".py",
   "mimetype": "text/x-python",
   "name": "python",
   "nbconvert_exporter": "python",
   "pygments_lexer": "ipython3",
   "version": "3.7.4"
  }
 },
 "nbformat": 4,
 "nbformat_minor": 2
}
