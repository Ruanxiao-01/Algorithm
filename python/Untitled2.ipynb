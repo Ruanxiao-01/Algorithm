{
 "cells": [
  {
   "cell_type": "code",
   "execution_count": 1,
   "metadata": {},
   "outputs": [
    {
     "name": "stdout",
     "output_type": "stream",
     "text": [
      "enter the number1: 24\n",
      "enter the number2: 36\n",
      "The GCD for 24 and 36 is 12\n",
      "The GCD for 6 and 8 is  3\n",
      "1.0614775440001267\n"
     ]
    }
   ],
   "source": [
    "#gcd最大公约数\n",
    "#Consecutive Integer Checking Algorithm\n",
    "import timeit\n",
    "def GCD(m,n):\n",
    "    t = min(m, n);\n",
    "    for i in range(1, t + 1):\n",
    "        if m % i == 0 and n % i == 0:\n",
    "            gcd = i\n",
    "    return gcd\n",
    "\n",
    "num1 = int(input(\"enter the number1: \"))\n",
    "num2 = int(input(\"enter the number2: \"))\n",
    "print(\"The GCD for\", num1,\"and\", num2, \"is\", GCD(num1, num2))\n",
    "\n",
    "print(\"The GCD for 6 and 8 is \", GCD(15, 12))\n",
    "print(timeit.timeit('GCD(15, 12)', setup = 'from __main__ import GCD'))"
   ]
  },
  {
   "cell_type": "code",
   "execution_count": null,
   "metadata": {},
   "outputs": [],
   "source": []
  }
 ],
 "metadata": {
  "kernelspec": {
   "display_name": "Python 3",
   "language": "python",
   "name": "python3"
  },
  "language_info": {
   "codemirror_mode": {
    "name": "ipython",
    "version": 3
   },
   "file_extension": ".py",
   "mimetype": "text/x-python",
   "name": "python",
   "nbconvert_exporter": "python",
   "pygments_lexer": "ipython3",
   "version": "3.7.4"
  }
 },
 "nbformat": 4,
 "nbformat_minor": 2
}
