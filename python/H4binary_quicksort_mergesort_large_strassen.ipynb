{
 "cells": [
  {
   "cell_type": "code",
   "execution_count": 28,
   "metadata": {},
   "outputs": [
    {
     "name": "stdout",
     "output_type": "stream",
     "text": [
      "3\n",
      "None\n"
     ]
    }
   ],
   "source": [
    "#Binary Search Recursive\n",
    "def binary_recursive(list, item):\n",
    "    low = 0\n",
    "    high = len(list) - 1    \n",
    "    if low > high:\n",
    "        return False\n",
    "    else:\n",
    "        mid = (low + high) // 2\n",
    "        if list[mid] == item:\n",
    "            return mid\n",
    "        elif item < list[mid]:\n",
    "            return binary_recursive(list[:mid], item)\n",
    "        else:\n",
    "            return binary_recursive(list[mid+1:], item)\n",
    "\n",
    "if __name__ == '__main__':\n",
    "    nums = [1,2,6,8,9]\n",
    "    print(binary_iterative(nums,8))\n",
    "    print(binary_iterative(nums,10))"
   ]
  },
  {
   "cell_type": "code",
   "execution_count": 27,
   "metadata": {},
   "outputs": [
    {
     "name": "stdout",
     "output_type": "stream",
     "text": [
      "3\n",
      "None\n"
     ]
    }
   ],
   "source": [
    "#Binary Search (iterative)\n",
    "def binary_iterative(list, item):\n",
    "    low = 0\n",
    "    high = len(list) - 1\n",
    "    while(low <= high):\n",
    "        mid = (high + low) // 2\n",
    "        if list[mid] == item:\n",
    "            return mid\n",
    "        elif item < list[mid]:\n",
    "            high = mid - 1\n",
    "        else:\n",
    "            low = mid + 1\n",
    "    return None\n",
    "\n",
    "if __name__ == '__main__':\n",
    "    nums = [1,2,6,8,9]\n",
    "    print(binary_iterative(nums,8))\n",
    "    print(binary_iterative(nums,10))"
   ]
  },
  {
   "cell_type": "code",
   "execution_count": 32,
   "metadata": {},
   "outputs": [
    {
     "name": "stdout",
     "output_type": "stream",
     "text": [
      "[1, 6, 27, 36, 56, 67]\n",
      "[1, 6, 27, 36, 56, 67]\n"
     ]
    }
   ],
   "source": [
    "#Mergesort\n",
    "def merge(left,right):\n",
    "    res = []\n",
    "    while len(left) > 0 and len(right) > 0:\n",
    "        if left[0] < right[0]:\n",
    "            res.append(left.pop(0))\n",
    "        else:\n",
    "            res.append(right.pop(0))\n",
    "    if left:\n",
    "        res.extend(left)\n",
    "    if right:\n",
    "        res.extend(right)\n",
    "    return res\n",
    "\n",
    "def mergeSort(arr):\n",
    "    n = len(arr)\n",
    "    if n < 2:\n",
    "        return arr\n",
    "    mid = n // 2\n",
    "    left = arr[:mid]\n",
    "    right = arr[mid:]\n",
    "    \n",
    "    left_sort = mergeSort(left)\n",
    "    right_sort = mergeSort(right)\n",
    "    return merge(left_sort,right_sort)\n",
    "\n",
    "if __name__ == '__main__':\n",
    "    nums = [1,6,56,27,67,36]\n",
    "    print(mergeSort(nums))"
   ]
  },
  {
   "cell_type": "code",
   "execution_count": 36,
   "metadata": {},
   "outputs": [
    {
     "name": "stdout",
     "output_type": "stream",
     "text": [
      "[1, 6, 27, 36, 56, 67]\n"
     ]
    }
   ],
   "source": [
    "#Quicksort\n",
    "def quick_sort(list, low, high):\n",
    "    if low < high:\n",
    "        k_index = deal_list(list, low, high)\n",
    "        quick_sort(list, low, k_index - 1)\n",
    "        quick_sort(list, k_index + 1, high)\n",
    "\n",
    "def deal_list(list, low, high):\n",
    "    left = low\n",
    "    right = high\n",
    "    k = list[low]\n",
    "    \n",
    "    while left < right:\n",
    "        while list[right] > k:\n",
    "            right -= 1\n",
    "        while list[left] <= k:\n",
    "            left +=1\n",
    "        if left < right:\n",
    "            list[right], list[left] = list[left], list[right]\n",
    "    list[low] = list[right]\n",
    "    list[right] = k\n",
    "    return right\n",
    "\n",
    "if __name__ == '__main__':\n",
    "    nums = [1,6,56,27,67,36]\n",
    "    quick_sort(nums,0,len(nums) - 1)\n",
    "    print(nums)\n",
    "    "
   ]
  },
  {
   "cell_type": "code",
   "execution_count": 39,
   "metadata": {},
   "outputs": [
    {
     "name": "stdout",
     "output_type": "stream",
     "text": [
      "[[26, 26, 26, 26], [52, 52, 52, 52], [78, 78, 78, 78], [104, 104, 104, 104]]\n"
     ]
    }
   ],
   "source": [
    "#strassen.py\n",
    "#python3\n",
    " \n",
    "def matrix_add(matrix_a,matrix_b):\n",
    "\trows = len(matrix_a)\n",
    "\tcolumns = len(matrix_a[0])\n",
    "\tmatrix_c = [list() for i in range(rows)]\n",
    "\tfor i in range(rows):\n",
    "\t\tfor j in range(columns):\n",
    "\t\t\tmatrix_c_temp = matrix_a[i][j] + matrix_b[i][j]\n",
    "\t\t\tmatrix_c[i].append(matrix_c_temp)\n",
    "\treturn matrix_c\n",
    " \n",
    "def matrix_minus(matrix_a,matrix_b):\n",
    "\trows = len(matrix_a)\n",
    "\tcolumns = len(matrix_a[0])\n",
    "\tmatrix_c = [list() for i in range(rows)]\n",
    "\tfor i in range(rows):\n",
    "\t\tfor j in range(columns):\n",
    "\t\t\tmatrix_c_temp = matrix_a[i][j] - matrix_b[i][j]\n",
    "\t\t\tmatrix_c[i].append(matrix_c_temp)\n",
    "\treturn matrix_c\n",
    " \n",
    "def matrix_divide(matrix_a,row,column):\n",
    "\tlength = len(matrix_a)\n",
    "\tmatrix_b = [list() for i in range(length//2)]\n",
    "\tk = 0\n",
    "\tfor i in range((row-1)*length//2,row*length//2):\n",
    "\t\tfor j in range((column-1)*length//2,column*length//2):\n",
    "\t\t\tmatrix_c_temp = matrix_a[i][j]\n",
    "\t\t\tmatrix_b[k].append(matrix_c_temp)\n",
    "\t\tk += 1\n",
    "\treturn matrix_b\n",
    "def matrix_merge(matrix_11,matrix_12,matrix_21,matrix_22):\n",
    "\tlength = len(matrix_11)\n",
    "\tmatrix_all = [list() for i in range(length*2)]\n",
    "\tfor i in range(length):\n",
    "\t\tmatrix_all[i] = matrix_11[i] + matrix_12[i]\n",
    "\tfor j in range(length):\n",
    "\t\tmatrix_all[length+j] = matrix_21[j] + matrix_22[j]\n",
    "\treturn matrix_all\n",
    " \n",
    "def strassen(matrix_a,matrix_b):\n",
    "\trows = len(matrix_a)\n",
    "\tif rows == 1:\n",
    "\t\tmatrix_all = [list() for i in range(rows)]\n",
    "\t\tmatrix_all[0].append(matrix_a[0][0] * matrix_b[0][0])\n",
    "\telse:\n",
    "\t\ts1 = matrix_minus((matrix_divide(matrix_b,1,2)),(matrix_divide(matrix_b,2,2)))\n",
    "\t\ts2 = matrix_add((matrix_divide(matrix_a,1,1)),(matrix_divide(matrix_a,1,2)))\n",
    "\t\ts3 = matrix_add((matrix_divide(matrix_a,2,1)),(matrix_divide(matrix_a,2,2)))\n",
    "\t\ts4 = matrix_minus((matrix_divide(matrix_b,2,1)),(matrix_divide(matrix_b,1,1)))\n",
    "\t\ts5 = matrix_add((matrix_divide(matrix_a,1,1)),(matrix_divide(matrix_a,2,2)))\n",
    "\t\ts6 = matrix_add((matrix_divide(matrix_b,1,1)),(matrix_divide(matrix_b,2,2)))\n",
    "\t\ts7 = matrix_minus((matrix_divide(matrix_a,1,2)),(matrix_divide(matrix_a,2,2)))\n",
    "\t\ts8 = matrix_add((matrix_divide(matrix_b,2,1)),(matrix_divide(matrix_b,2,2)))\n",
    "\t\ts9 = matrix_minus((matrix_divide(matrix_a,1,1)),(matrix_divide(matrix_a,2,1)))\n",
    "\t\ts10 = matrix_add((matrix_divide(matrix_b,1,1)),(matrix_divide(matrix_b,1,2)))\n",
    "\t\tp1 = strassen(matrix_divide(matrix_a,1,1),s1)\n",
    "\t\tp2 = strassen(s2,matrix_divide(matrix_b,2,2))\n",
    "\t\tp3 = strassen(s3,matrix_divide(matrix_b,1,1))\n",
    "\t\tp4 = strassen(matrix_divide(matrix_a,2,2),s4)\n",
    "\t\tp5 = strassen(s5,s6)\n",
    "\t\tp6 = strassen(s7,s8)\n",
    "\t\tp7 = strassen(s9,s10)\n",
    "\t\tc11 = matrix_add(matrix_add(p5,p4),matrix_minus(p6,p2))\n",
    "\t\tc12 = matrix_add(p1,p2)\n",
    "\t\tc21 = matrix_add(p3,p4)\n",
    "\t\tc22 = matrix_minus(matrix_add(p5,p1),matrix_add(p3,p7))\n",
    "\t\tmatrix_all = matrix_merge(c11,c12,c21,c22)\n",
    "\treturn matrix_all\n",
    " \n",
    "def main():\n",
    "\ta = [[1,1,1,1],[2,2,2,2],[3,3,3,3],[4,4,4,4]]\n",
    "\tb = [[5,5,5,5],[6,6,6,6],[7,7,7,7],[8,8,8,8]]\n",
    "\tc = strassen(a,b)\n",
    "\tprint(c)\n",
    "if __name__ == '__main__':\n",
    "\tmain()\n",
    "\n",
    "\n"
   ]
  },
  {
   "cell_type": "code",
   "execution_count": 48,
   "metadata": {},
   "outputs": [
    {
     "name": "stdout",
     "output_type": "stream",
     "text": [
      "理想状态下用法！\n",
      "请输入第一个n(n=2^k)位整数：12345678\n",
      "请输入第二个n(n=2^k)位整数：12345678\n",
      "分治乘法：152415765279684\n",
      "普通乘法：152415765279684\n"
     ]
    }
   ],
   "source": [
    "# 理想状态下大整数乘法\n",
    "# X = a b\n",
    "# Y = c d\n",
    "# XY = ac10^n + (ad+bc)10^(n/2) + bd    O(n^2)\n",
    "# XY = ac10^n(移位操作) + [(a-b)(d-c)+ ac + bd]10^(n/2) + bd     O(n^1.59)\n",
    " \n",
    " \n",
    "def SING(N):\n",
    "    return 1 if N > 0 else -1\n",
    " \n",
    " \n",
    "def BigNumerMultiply(X, Y, n):\n",
    "    sign = SING(X) * SING(Y)\n",
    "    X = abs(X)\n",
    "    Y = abs(Y)\n",
    "    # 递归退出条件\n",
    "    if X == 0 or Y == 0:\n",
    "        return 0\n",
    "    elif n == 1:\n",
    "        return sign * X * Y\n",
    "    else:\n",
    "        halfN = int(n / 2)  # 也可以使用字符串切割获取\n",
    "        a = int(X / pow(10, halfN))\n",
    "        b = int(X % pow(10, halfN))\n",
    "        c = int(Y / pow(10, halfN))\n",
    "        d = int(Y % pow(10, halfN))\n",
    "        AC = BigNumerMultiply(a, c, halfN)\n",
    "        BD = BigNumerMultiply(b, d, halfN)\n",
    "        ABCD = BigNumerMultiply(a-b, d-c, halfN)\n",
    "        result = AC*pow(10, n)+(ABCD+AC+BD)*pow(10, halfN)+BD\n",
    "        return sign * result\n",
    " \n",
    " \n",
    "if __name__ == '__main__':\n",
    "    print('理想状态下用法！')\n",
    "    X = int(input('请输入第一个n(n=2^k)位整数：'))\n",
    "    Y = int(input('请输入第二个n(n=2^k)位整数：'))\n",
    "    n = len(str(X))\n",
    "    result = BigNumerMultiply(X, Y, n)\n",
    "    print('分治乘法：{}'.format(result))\n",
    "    print('普通乘法：{}'.format(str(X * Y)))\n",
    " \n",
    " \n",
    "# 样例输入：\n",
    "# 1.          2.\n",
    "# 4567        12345678\n",
    "# 1234        12345678\n",
    "#\n",
    "#\n",
    "# 错误输入：\n",
    "# 1.          2.\n",
    "# 123456      123\n",
    "# 123456      123\n",
    " \n",
    " \n",
    " \n",
    " \n",
    "\n"
   ]
  },
  {
   "cell_type": "code",
   "execution_count": null,
   "metadata": {},
   "outputs": [],
   "source": []
  }
 ],
 "metadata": {
  "kernelspec": {
   "display_name": "Python 3",
   "language": "python",
   "name": "python3"
  },
  "language_info": {
   "codemirror_mode": {
    "name": "ipython",
    "version": 3
   },
   "file_extension": ".py",
   "mimetype": "text/x-python",
   "name": "python",
   "nbconvert_exporter": "python",
   "pygments_lexer": "ipython3",
   "version": "3.7.4"
  }
 },
 "nbformat": 4,
 "nbformat_minor": 2
}
