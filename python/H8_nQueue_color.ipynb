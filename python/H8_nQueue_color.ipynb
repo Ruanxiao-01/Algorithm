{
 "cells": [
  {
   "cell_type": "code",
   "execution_count": 4,
   "metadata": {
    "scrolled": true
   },
   "outputs": [
    {
     "name": "stdout",
     "output_type": "stream",
     "text": [
      "0 0 1 0 \n",
      "1 0 0 0 \n",
      "0 0 0 1 \n",
      "0 1 0 0 \n"
     ]
    },
    {
     "data": {
      "text/plain": [
       "True"
      ]
     },
     "execution_count": 4,
     "metadata": {},
     "output_type": "execute_result"
    }
   ],
   "source": [
    "# Python program to solve N Queen\n",
    "# Problem using backtracking\n",
    "global N\n",
    "N = 4\n",
    "\n",
    "def printSolution(board):\n",
    "\tfor i in range(N):\n",
    "\t\tfor j in range(N):\n",
    "\t\t\tprint (board[i][j], end = \" \")\n",
    "\t\tprint()\n",
    "\n",
    "def isSafe(board, row, col):\n",
    "\n",
    "\n",
    "\tfor i in range(col):\n",
    "\t\tif board[row][i] == 1:\n",
    "\t\t\treturn False\n",
    "\n",
    "\n",
    "\tfor i, j in zip(range(row, -1, -1),\n",
    "\t\t\t\t\trange(col, -1, -1)):\n",
    "\t\tif board[i][j] == 1:\n",
    "\t\t\treturn False\n",
    "\n",
    "\n",
    "\tfor i, j in zip(range(row, N, 1),\n",
    "\t\t\t\t\trange(col, -1, -1)):\n",
    "\t\tif board[i][j] == 1:\n",
    "\t\t\treturn False\n",
    "\n",
    "\treturn True\n",
    "\n",
    "def solveNQUtil(board, col):\n",
    "\tif col >= N:\n",
    "\t\treturn True\n",
    "\n",
    "\n",
    "\tfor i in range(N):\n",
    "\n",
    "\t\tif isSafe(board, i, col):\n",
    "\t\t\t\n",
    "\n",
    "\t\t\tboard[i][col] = 1\n",
    "\n",
    "\n",
    "\t\t\tif solveNQUtil(board, col + 1) == True:\n",
    "\t\t\t\treturn True\n",
    "\n",
    "\n",
    "\t\t\tboard[i][col] = 0\n",
    "\n",
    "\n",
    "\treturn False\n",
    "\n",
    "def solveNQ():\n",
    "\tboard = [ [0, 0, 0, 0],\n",
    "\t\t\t[0, 0, 0, 0],\n",
    "\t\t\t[0, 0, 0, 0],\n",
    "\t\t\t[0, 0, 0, 0] ]\n",
    "\n",
    "\tif solveNQUtil(board, 0) == False:\n",
    "\t\tprint (\"Solution does not exist\")\n",
    "\t\treturn False\n",
    "\n",
    "\tprintSolution(board)\n",
    "\treturn True\n",
    "\n",
    "\n",
    "solveNQ()\n",
    "\n"
   ]
  },
  {
   "cell_type": "code",
   "execution_count": 13,
   "metadata": {},
   "outputs": [
    {
     "name": "stdout",
     "output_type": "stream",
     "text": [
      "Solution Exists:\n",
      "1 2 3 2 "
     ]
    }
   ],
   "source": [
    "#Graph_coloring\n",
    "def promising(graph, color):\n",
    "\n",
    "\tfor i in range(4):\n",
    "\t\tfor j in range(i + 1, 4):\n",
    "\t\t\tif (graph[i][j] and color[j] == color[i]):\n",
    "\t\t\t\treturn False\n",
    "\treturn True\n",
    "\n",
    "\n",
    "def m_coloring(graph, m, i, color):\n",
    "\n",
    "\tif (i == 4):\n",
    "\n",
    "\t\tif (promising(graph, color)):\n",
    "\n",
    "\t\t\tprintSolution(color)\n",
    "\t\t\treturn True\n",
    "\t\treturn False\n",
    "\n",
    "\tfor j in range(1, m + 1):\n",
    "\t\tcolor[i] = j\n",
    "\n",
    "\t\tif (m_coloring(graph, m, i + 1, color)):\n",
    "\t\t\treturn True\n",
    "\t\tcolor[i] = 0\n",
    "\treturn False\n",
    "\n",
    "def printSolution(color):\n",
    "\tprint(\"Solution Exists:\" )\n",
    "\tfor i in range(4):\n",
    "\t\tprint(color[i],end=\" \")\n",
    "\n",
    "\n",
    "if __name__ == '__main__':\n",
    "\n",
    "\tgraph = [\n",
    "\t\t[ 0, 1, 1, 1 ],\n",
    "\t\t[ 1, 0, 1, 0 ],\n",
    "\t\t[ 1, 1, 0, 1 ],\n",
    "\t\t[ 1, 0, 1, 0 ],\n",
    "\t]\n",
    "\tm = 3 \n",
    "    \n",
    "\tcolor = [0 for i in range(4)]\n",
    "\n",
    "\tif (not m_coloring(graph, m, 0, color)):\n",
    "\t\tprint (\"Solution does not exist\")\n",
    "\n",
    "\n"
   ]
  },
  {
   "cell_type": "code",
   "execution_count": null,
   "metadata": {},
   "outputs": [],
   "source": []
  }
 ],
 "metadata": {
  "kernelspec": {
   "display_name": "Python 3",
   "language": "python",
   "name": "python3"
  },
  "language_info": {
   "codemirror_mode": {
    "name": "ipython",
    "version": 3
   },
   "file_extension": ".py",
   "mimetype": "text/x-python",
   "name": "python",
   "nbconvert_exporter": "python",
   "pygments_lexer": "ipython3",
   "version": "3.7.4"
  }
 },
 "nbformat": 4,
 "nbformat_minor": 2
}
