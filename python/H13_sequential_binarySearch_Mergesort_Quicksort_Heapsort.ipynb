{
 "cells": [
  {
   "cell_type": "code",
   "execution_count": 8,
   "metadata": {},
   "outputs": [
    {
     "name": "stdout",
     "output_type": "stream",
     "text": [
      "True\n"
     ]
    }
   ],
   "source": [
    "#sequence search\n",
    "def seq_search(arr,ele):\n",
    "   \n",
    "    # Start at position 0\n",
    "    pos = 0\n",
    "    # Target becomes true if ele is in the list\n",
    "    found = False\n",
    "     \n",
    "    # go until end of list\n",
    "    while pos < len(arr) and not found:\n",
    "         \n",
    "        # If match\n",
    "        if arr[pos] == ele:\n",
    "            found = True\n",
    "             \n",
    "        # Else move one down\n",
    "        else:\n",
    "            pos  = pos+1\n",
    "     \n",
    "    return found\n",
    "\n",
    "arr = [1,9,2,8,3,4,7,5,6]\n",
    "print(seq_search(arr,1))"
   ]
  },
  {
   "cell_type": "code",
   "execution_count": 9,
   "metadata": {},
   "outputs": [
    {
     "name": "stdout",
     "output_type": "stream",
     "text": [
      "Element is present at idenx 2\n"
     ]
    }
   ],
   "source": [
    "#binary search\n",
    "def binary_search(arr, low, high, x):\n",
    "    if high >= low:\n",
    "        mid = (high + low) // 2\n",
    "        if arr[mid] == x:\n",
    "            return mid\n",
    "        \n",
    "        elif arr[mid] > x:\n",
    "            return binary_search(arr, low, mid - 1, x)\n",
    "        else:\n",
    "            return binary_search(arr, mid + 1, high, x)\n",
    "    else:\n",
    "        return -1\n",
    "\n",
    "arr = [2,5,36,46,7,18,21]\n",
    "x = 36\n",
    "\n",
    "result = binary_search(arr, 0, len(arr) - 1, x)\n",
    "if result != -1:\n",
    "    print(\"Element is present at idenx\", str(result))\n",
    "else:\n",
    "    print(\"Element is not present in array\")\n"
   ]
  },
  {
   "cell_type": "code",
   "execution_count": 10,
   "metadata": {},
   "outputs": [
    {
     "name": "stdout",
     "output_type": "stream",
     "text": [
      "[1, 6, 27, 36, 56, 67]\n"
     ]
    }
   ],
   "source": [
    "#Mergesort\n",
    "def merge(left,right):\n",
    "    res = []\n",
    "    while len(left) > 0 and len(right) > 0:\n",
    "        if left[0] < right[0]:\n",
    "            res.append(left.pop(0))\n",
    "        else:\n",
    "            res.append(right.pop(0))\n",
    "    if left:\n",
    "        res.extend(left)\n",
    "    if right:\n",
    "        res.extend(right)\n",
    "    return res\n",
    "\n",
    "def mergeSort(arr):\n",
    "    n = len(arr)\n",
    "    if n < 2:\n",
    "        return arr\n",
    "    mid = n // 2\n",
    "    left = arr[:mid]\n",
    "    right = arr[mid:]\n",
    "    \n",
    "    left_sort = mergeSort(left)\n",
    "    right_sort = mergeSort(right)\n",
    "    return merge(left_sort,right_sort)\n",
    "\n",
    "if __name__ == '__main__':\n",
    "    nums = [1,6,56,27,67,36]\n",
    "    print(mergeSort(nums))"
   ]
  },
  {
   "cell_type": "code",
   "execution_count": 11,
   "metadata": {},
   "outputs": [
    {
     "name": "stdout",
     "output_type": "stream",
     "text": [
      "[1, 6, 27, 36, 56, 67]\n"
     ]
    }
   ],
   "source": [
    "#Quicksort\n",
    "def quick_sort(list, low, high):\n",
    "    if low < high:\n",
    "        k_index = deal_list(list, low, high)\n",
    "        quick_sort(list, low, k_index - 1)\n",
    "        quick_sort(list, k_index + 1, high)\n",
    "\n",
    "def deal_list(list, low, high):\n",
    "    left = low\n",
    "    right = high\n",
    "    k = list[low]\n",
    "    \n",
    "    while left < right:\n",
    "        while list[right] > k:\n",
    "            right -= 1\n",
    "        while list[left] <= k:\n",
    "            left +=1\n",
    "        if left < right:\n",
    "            list[right], list[left] = list[left], list[right]\n",
    "    list[low] = list[right]\n",
    "    list[right] = k\n",
    "    return right\n",
    "\n",
    "if __name__ == '__main__':\n",
    "    nums = [1,6,56,27,67,36]\n",
    "    quick_sort(nums,0,len(nums) - 1)\n",
    "    print(nums)"
   ]
  },
  {
   "cell_type": "code",
   "execution_count": 12,
   "metadata": {},
   "outputs": [
    {
     "name": "stdout",
     "output_type": "stream",
     "text": [
      "[11, 23, 26, 34, 35, 36, 52]\n"
     ]
    }
   ],
   "source": [
    "#heapsort\n",
    "def heapify(arr, n, i):\n",
    "    largest = i\n",
    "    l = 2 * i + 1 \n",
    "    r = 2 * i + 2 \n",
    "    if l < n and arr[i] < arr[l]:\n",
    "        largest = l\n",
    "    if r < n and arr[largest] < arr[r]:\n",
    "        largest = r\n",
    "    if largest != i:\n",
    "        arr[i], arr[largest] = arr[largest], arr[i]  \n",
    "        heapify(arr, n, largest)\n",
    "\n",
    "def heapSort(arr):\n",
    "    n = len(arr)\n",
    "    for i in range(n, -1, -1):\n",
    "        heapify(arr, n, i)\n",
    "    for i in range(n - 1, 0, -1):\n",
    "        \n",
    "        arr[i], arr[0] = arr[0], arr[i] \n",
    "        heapify(arr, i, 0)\n",
    "    return arr\n",
    "\n",
    "arr = [35,26,34,23,11,36,52]\n",
    "heapSort(arr)\n",
    "n = len(arr)\n",
    "print(arr)"
   ]
  },
  {
   "cell_type": "code",
   "execution_count": null,
   "metadata": {},
   "outputs": [],
   "source": []
  }
 ],
 "metadata": {
  "kernelspec": {
   "display_name": "Python 3",
   "language": "python",
   "name": "python3"
  },
  "language_info": {
   "codemirror_mode": {
    "name": "ipython",
    "version": 3
   },
   "file_extension": ".py",
   "mimetype": "text/x-python",
   "name": "python",
   "nbconvert_exporter": "python",
   "pygments_lexer": "ipython3",
   "version": "3.7.4"
  }
 },
 "nbformat": 4,
 "nbformat_minor": 2
}
