{
 "cells": [
  {
   "cell_type": "code",
   "execution_count": 5,
   "metadata": {},
   "outputs": [
    {
     "name": "stdout",
     "output_type": "stream",
     "text": [
      "True\n",
      "False\n",
      "0.3525722089999874\n",
      "1.3466832699999998\n"
     ]
    }
   ],
   "source": [
    "#无序数字查找\n",
    "def sequentialunsortedSearch(list, item):\n",
    "    found = False;\n",
    "    pos = 0;\n",
    "    while pos < len(list) and not found:\n",
    "        if list[pos] == item:\n",
    "            found = True;\n",
    "        else:\n",
    "            if list[pos] != item:\n",
    "                #found = False; 没必要，初始就是False\n",
    "                pos = pos + 1;\n",
    "    return found\n",
    "\n",
    "testlist = [3,2,6,4,7,8,24]\n",
    "print(sequentialunsortedSearch(testlist,3))\n",
    "print(sequentialunsortedSearch(testlist,35))\n",
    "print(timeit.timeit('sequentialSearch([3,2,6,4,7,8,24],3)',setup='from __main__ import sequentialSearch'))\n",
    "print(timeit.timeit('sequentialSearch([3,2,6,4,7,8,24],35)',setup='from __main__ import sequentialSearch'))\n",
    "    "
   ]
  },
  {
   "cell_type": "code",
   "execution_count": 3,
   "metadata": {},
   "outputs": [
    {
     "name": "stdout",
     "output_type": "stream",
     "text": [
      "True\n",
      "False\n",
      "0.6631083400000009\n",
      "1.203989201999999\n"
     ]
    }
   ],
   "source": [
    "#有序数组查找\n",
    "import timeit\n",
    "def sequentialSearch(list, item):\n",
    "    found = False;\n",
    "    pos = 0;\n",
    "    stop = False;\n",
    "    while pos < len(list) and not found and not stop:\n",
    "        if list[pos] ==  item:\n",
    "            found = True;\n",
    "        else: #else: if : 分开\n",
    "            if list[pos] > item:\n",
    "                stop = True;\n",
    "            else:\n",
    "                pos = pos + 1;\n",
    "    return found;\n",
    "\n",
    "testlist = [2,3,5,6,3,7]\n",
    "print(sequentialSearch(testlist,5))\n",
    "print(sequentialSearch(testlist,8))\n",
    "print(timeit.timeit('sequentialSearch([2,3,5,6,3,7],5)',setup='from __main__ import sequentialSearch'))\n",
    "print(timeit.timeit('sequentialSearch([2,3,5,6,3,7],8)',setup='from __main__ import sequentialSearch'))\n",
    "    "
   ]
  },
  {
   "cell_type": "code",
   "execution_count": null,
   "metadata": {},
   "outputs": [],
   "source": []
  },
  {
   "cell_type": "code",
   "execution_count": null,
   "metadata": {},
   "outputs": [],
   "source": []
  },
  {
   "cell_type": "code",
   "execution_count": null,
   "metadata": {},
   "outputs": [],
   "source": []
  }
 ],
 "metadata": {
  "kernelspec": {
   "display_name": "Python 3",
   "language": "python",
   "name": "python3"
  },
  "language_info": {
   "codemirror_mode": {
    "name": "ipython",
    "version": 3
   },
   "file_extension": ".py",
   "mimetype": "text/x-python",
   "name": "python",
   "nbconvert_exporter": "python",
   "pygments_lexer": "ipython3",
   "version": "3.7.4"
  }
 },
 "nbformat": 4,
 "nbformat_minor": 2
}
