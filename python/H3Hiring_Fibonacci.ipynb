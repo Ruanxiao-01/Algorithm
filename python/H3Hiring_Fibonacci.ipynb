{
 "cells": [
  {
   "cell_type": "code",
   "execution_count": 15,
   "metadata": {},
   "outputs": [
    {
     "name": "stdout",
     "output_type": "stream",
     "text": [
      "12\n"
     ]
    }
   ],
   "source": [
    "#hiring problem\n",
    "import random\n",
    "def hire_assistant(n,c,S):\n",
    "    best = 0\n",
    "    cost = c\n",
    "    for i in range(n):\n",
    "        if S[i] > best:\n",
    "            cost += c\n",
    "            best = S[i]\n",
    "    return cost\n",
    "\n",
    "def randomize_permutate(n,S):\n",
    "    for i in range(n):\n",
    "        exchange(S[i],random.randint(i,n))\n",
    "        \n",
    "def exchange(a,b):\n",
    "    temp = a;\n",
    "    a = b;\n",
    "    b = temp;\n",
    "\n",
    "def randomize_hire_assistant(n,c,S):\n",
    "    randomize_permutate(n,S)\n",
    "    return hire_assistant(n,c,S)\n",
    "\n",
    "print(randomize_hire_assistant(3,3,[2,3,4]))\n",
    "    "
   ]
  },
  {
   "cell_type": "code",
   "execution_count": 16,
   "metadata": {},
   "outputs": [
    {
     "name": "stdout",
     "output_type": "stream",
     "text": [
      "89\n"
     ]
    }
   ],
   "source": [
    "#Fibonacci (recursive)\n",
    "def Fibonacci(n):\n",
    "    if n == 0 or n == 1:\n",
    "        return 1\n",
    "    else:\n",
    "        return Fibonacci(n-1) + Fibonacci(n-2)\n",
    "    \n",
    "print(Fibonacci(10))"
   ]
  },
  {
   "cell_type": "code",
   "execution_count": null,
   "metadata": {},
   "outputs": [],
   "source": []
  }
 ],
 "metadata": {
  "kernelspec": {
   "display_name": "Python 3",
   "language": "python",
   "name": "python3"
  },
  "language_info": {
   "codemirror_mode": {
    "name": "ipython",
    "version": 3
   },
   "file_extension": ".py",
   "mimetype": "text/x-python",
   "name": "python",
   "nbconvert_exporter": "python",
   "pygments_lexer": "ipython3",
   "version": "3.7.4"
  }
 },
 "nbformat": 4,
 "nbformat_minor": 2
}
