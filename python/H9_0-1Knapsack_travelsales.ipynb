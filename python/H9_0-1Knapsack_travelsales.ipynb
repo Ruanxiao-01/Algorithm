{
 "cells": [
  {
   "cell_type": "code",
   "execution_count": 1,
   "metadata": {},
   "outputs": [
    {
     "name": "stdout",
     "output_type": "stream",
     "text": [
      "4\n",
      "3\n"
     ]
    }
   ],
   "source": [
    "#knapsack_breadth\n",
    "cost = [[0, 0, 0, 0, 0, 0],\n",
    "        [0, 0, 0, 0, 0, 0],\n",
    "        [0, 0, 0, 0, 0, 0],\n",
    "        [0, 0, 0, 0, 0, 0],\n",
    "        [0, 0, 0, 0, 0, 0]]\n",
    "\n",
    "def knapsack_breadth(n, W, wm, vm):\n",
    "  for i in range(1, n+1):\n",
    "    for w in range(1, W+1):\n",
    "      if(wm[i] > w):\n",
    "        cost[i][w] = cost[i-1][w]\n",
    "      else:\n",
    "        if ((vm[i]+cost[i-1][w-wm[i]]) > cost[i-1][w]):\n",
    "          cost[i][w] = vm[i] + cost[i-1][w-wm[i]]\n",
    "        else:\n",
    "          cost[i][w] = cost[i-1][w]\n",
    "  return cost[n][W]\n",
    "\n",
    "def items_in_optimal(n, W, wm):\n",
    "  i = n\n",
    "  j = W\n",
    "\n",
    "  while (i > 0 and j > 0):\n",
    "    if(cost[i][j] != cost[i-1][j]):\n",
    "      print(i)\n",
    "      j = j-wm[i]\n",
    "      i = i-1\n",
    "    else:\n",
    "      i = i-1\n",
    "\n",
    "\n",
    "\n",
    "if __name__ == '__main__':\n",
    "  wm = [0, 3, 2, 4, 1]\n",
    "  vm = [0, 8, 3, 9, 6]\n",
    "  knapsack_breadth(4, 5, wm, vm)\n",
    "  items_in_optimal(4, 5, wm)"
   ]
  },
  {
   "cell_type": "code",
   "execution_count": 2,
   "metadata": {},
   "outputs": [
    {
     "name": "stdout",
     "output_type": "stream",
     "text": [
      "65\n"
     ]
    }
   ],
   "source": [
    "#Best-First Search of TSP(travellingSalesmanProblem)\n",
    "from sys import maxsize \n",
    "from itertools import permutations\n",
    "V = 4\n",
    " \n",
    "\n",
    "def travellingSalesmanProblem(graph, s): \n",
    " \n",
    "\n",
    "    vertex = [] \n",
    "    for i in range(V): \n",
    "        if i != s: \n",
    "            vertex.append(i) \n",
    " \n",
    "    min_path = maxsize \n",
    "    next_permutation=permutations(vertex)\n",
    "    for i in next_permutation:\n",
    " \n",
    "\n",
    "        current_pathweight = 0\n",
    " \n",
    "        k = s \n",
    "        for j in i: \n",
    "            current_pathweight += graph[k][j] \n",
    "            k = j \n",
    "        current_pathweight += graph[k][s] \n",
    " \n",
    "        min_path = min(min_path, current_pathweight) \n",
    "         \n",
    "    return min_path \n",
    " \n",
    " \n",
    "\n",
    "if __name__ == \"__main__\": \n",
    " \n",
    "    graph = [[0, 10, 15, 20], [10, 0, 35, 55], \n",
    "            [15, 25, 0, 15], [20, 25, 30, 0]] \n",
    "    s = 0\n",
    "    print(travellingSalesmanProblem(graph, s))\n"
   ]
  },
  {
   "cell_type": "code",
   "execution_count": null,
   "metadata": {},
   "outputs": [],
   "source": []
  }
 ],
 "metadata": {
  "kernelspec": {
   "display_name": "Python 3",
   "language": "python",
   "name": "python3"
  },
  "language_info": {
   "codemirror_mode": {
    "name": "ipython",
    "version": 3
   },
   "file_extension": ".py",
   "mimetype": "text/x-python",
   "name": "python",
   "nbconvert_exporter": "python",
   "pygments_lexer": "ipython3",
   "version": "3.7.4"
  }
 },
 "nbformat": 4,
 "nbformat_minor": 2
}
