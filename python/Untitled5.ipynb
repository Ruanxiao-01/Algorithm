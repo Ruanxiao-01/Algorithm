{
 "cells": [
  {
   "cell_type": "code",
   "execution_count": 17,
   "metadata": {},
   "outputs": [
    {
     "name": "stdout",
     "output_type": "stream",
     "text": [
      "0 1 3 4 5 6 \n"
     ]
    }
   ],
   "source": [
    "#The vertex-cover problem\n",
    "from collections import defaultdict\n",
    "\n",
    "class Graph:\n",
    "    def __init__(self, vertices):\n",
    "        self.V = vertices\n",
    "        self.graph = defaultdict(list)\n",
    "        \n",
    "    def addEdge(self, u, v):\n",
    "        self.graph[u].append(v)\n",
    "            \n",
    "    def printVertexCover(self):\n",
    "        visited = [False]* (self.V)\n",
    "        for u in range(self.V):\n",
    "            if not visited[u]:\n",
    "                for v in self.graph[u]:\n",
    "                    if not visited[v]:\n",
    "                        visited[v] = True\n",
    "                        visited[u] = True\n",
    "                        break\n",
    "        for j in range(self.V):\n",
    "            if visited[j]:\n",
    "                print(j, end = ' ')\n",
    "                \n",
    "        print()\n",
    "            \n",
    "\n",
    "g = Graph(7)\n",
    "g.addEdge(0,1)\n",
    "g.addEdge(0,2)\n",
    "g.addEdge(1,3)\n",
    "g.addEdge(3,4)\n",
    "g.addEdge(4,5)\n",
    "g.addEdge(5,6)\n",
    "\n",
    "g.printVertexCover()"
   ]
  },
  {
   "cell_type": "code",
   "execution_count": 18,
   "metadata": {},
   "outputs": [
    {
     "name": "stdout",
     "output_type": "stream",
     "text": [
      "[{1, 2, 3, 8, 9, 10}, {4, 5, 7}, {5, 6, 7}]\n"
     ]
    }
   ],
   "source": [
    "# The set-covering problem\n",
    "def greedy_set_cover(universe, subsets):\n",
    "    \"\"\"Find a family of subsets that covers the universal set\"\"\"\n",
    "    elements = set(e for s in subsets for e in s)\n",
    "    # Check the subsets cover the universe\n",
    "    if elements != universe:\n",
    "        return None\n",
    "    covered = set()\n",
    "    cover = []\n",
    "    # Greedily add the subsets with the most uncovered points\n",
    "    while covered != elements:\n",
    "        subset = max(subsets, key=lambda s: len(s - covered))\n",
    "        cover.append(subset)\n",
    "        covered |= subset\n",
    " \n",
    "    return cover\n",
    " \n",
    "def main():\n",
    "    universe = set(range(1, 11))\n",
    "    subsets = [set([1, 2, 3, 8, 9, 10]),\n",
    "        set([1, 2, 3, 4, 5]),\n",
    "        set([4, 5, 7]),\n",
    "        set([5, 6, 7]),\n",
    "        set([6, 7, 8, 9, 10])]\n",
    "    cover = greedy_set_cover(universe, subsets)\n",
    "    print(cover)\n",
    " \n",
    "if __name__ == '__main__':\n",
    "    main()"
   ]
  },
  {
   "cell_type": "code",
   "execution_count": null,
   "metadata": {},
   "outputs": [],
   "source": []
  },
  {
   "cell_type": "code",
   "execution_count": null,
   "metadata": {},
   "outputs": [],
   "source": []
  }
 ],
 "metadata": {
  "kernelspec": {
   "display_name": "Python 3",
   "language": "python",
   "name": "python3"
  },
  "language_info": {
   "codemirror_mode": {
    "name": "ipython",
    "version": 3
   },
   "file_extension": ".py",
   "mimetype": "text/x-python",
   "name": "python",
   "nbconvert_exporter": "python",
   "pygments_lexer": "ipython3",
   "version": "3.7.4"
  }
 },
 "nbformat": 4,
 "nbformat_minor": 2
}
