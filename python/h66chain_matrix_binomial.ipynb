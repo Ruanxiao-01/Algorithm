{
 "cells": [
  {
   "cell_type": "code",
   "execution_count": 8,
   "metadata": {},
   "outputs": [
    {
     "name": "stdout",
     "output_type": "stream",
     "text": [
      "[0, 15750, 7875, 9375, 11875, 15125]\n",
      "[0, 0, 2625, 4375, 7125, 10500]\n",
      "[0, 0, 0, 750, 2500, 5375]\n",
      "[0, 0, 0, 0, 1000, 3500]\n",
      "[0, 0, 0, 0, 0, 5000]\n",
      "[0, 0, 0, 0, 0, 0]\n",
      "( ( A[ 1 ] ( A[ 2 ] A[ 3 ] ) ) ( ( A[ 4 ] A[ 5 ] ) A[ 6 ] ) ) "
     ]
    }
   ],
   "source": [
    "def MatrixChina(n):\n",
    "    for r in range(2, n + 1):\n",
    "        for i in range(1, n - r + 2):\n",
    "            j = i + r - 1\n",
    "            m[i][j] = m[i + 1][j] + p[i - 1] * p[i] * p[j]\n",
    "            s[i][j] = i\n",
    "            for k in range(i + 1, j):\n",
    "                t = m[i][k] + m[k + 1][j] + p[i - 1] * p[k] * p[j]\n",
    "                if t < m[i][j]:\n",
    "                    m[i][j] = t\n",
    "                    s[i][j] = k\n",
    "\n",
    "\n",
    "def cout(i, j):\n",
    "    if i == j:\n",
    "        print('A[', i, ']', end=' ')\n",
    "        return\n",
    "    print('(', end=' ')\n",
    "    cout(i, s[i][j])\n",
    "    cout(s[i][j] + 1, j) \n",
    "    print(')', end=' ')\n",
    "\n",
    "\n",
    "if __name__ == '__main__':\n",
    "    N = 7  \n",
    "    p = [30, 35, 15, 5, 10, 20, 25]\n",
    "    m = [[0 for _ in range(0, N)] for _ in range(0, N)]\n",
    "    s = [[0 for _ in range(0, N)] for _ in range(0, N)]\n",
    "\n",
    "    MatrixChina(N - 1)\n",
    "    for i in m[1:]:\n",
    "        print(i[1:])\n",
    "    cout(1, N - 1)\n",
    "\n"
   ]
  },
  {
   "cell_type": "code",
   "execution_count": 7,
   "metadata": {},
   "outputs": [
    {
     "name": "stdout",
     "output_type": "stream",
     "text": [
      "[0, 15750, 7875, 9375, 11875, 15125]\n",
      "[0, 0, 2625, 4375, 7125, 10500]\n",
      "[0, 0, 0, 750, 2500, 5375]\n",
      "[0, 0, 0, 0, 1000, 3500]\n",
      "[0, 0, 0, 0, 0, 5000]\n",
      "[0, 0, 0, 0, 0, 0]\n",
      "( ( A[ 1 ] ( A[ 2 ] A[ 3 ] ) ) ( ( A[ 4 ] A[ 5 ] ) A[ 6 ] ) ) "
     ]
    }
   ],
   "source": [
    "def MatrixChina(n):\n",
    "    for r in range(2, n + 1):\n",
    "        for i in range(1, n - r + 2):\n",
    "            j = i + r - 1\n",
    "            m[i][j] = m[i + 1][j] + p[i - 1] * p[i] * p[j]\n",
    "            s[i][j] = i\n",
    "            for k in range(i + 1, j):\n",
    "                t = m[i][k] + m[k + 1][j] + p[i - 1] * p[k] * p[j]\n",
    "                if t < m[i][j]:\n",
    "                    m[i][j] = t\n",
    "                    s[i][j] = k\n",
    "\n",
    "\n",
    "def cout(i, j):\n",
    "    if i == j:\n",
    "        print('A[', i, ']', end=' ')\n",
    "        return\n",
    "    print('(', end=' ')\n",
    "    cout(i, s[i][j])\n",
    "    cout(s[i][j] + 1, j)  # 递归1到s[1][j]\n",
    "    print(')', end=' ')\n",
    "\n",
    "\n",
    "if __name__ == '__main__':\n",
    "    N = 7  # 定义矩阵的数量+1\n",
    "    p = [30, 35, 15, 5, 10, 20, 25]\n",
    "    m = [[0 for _ in range(0, N)] for _ in range(0, N)]\n",
    "    s = [[0 for _ in range(0, N)] for _ in range(0, N)]\n",
    "\n",
    "    MatrixChina(N - 1)\n",
    "    for i in m[1:]:\n",
    "        print(i[1:])\n",
    "    cout(1, N - 1)\n",
    "\n",
    "\n"
   ]
  },
  {
   "cell_type": "code",
   "execution_count": 20,
   "metadata": {},
   "outputs": [
    {
     "ename": "NameError",
     "evalue": "name 'defaultdict' is not defined",
     "output_type": "error",
     "traceback": [
      "\u001b[0;31m---------------------------------------------------------------------------\u001b[0m",
      "\u001b[0;31mNameError\u001b[0m                                 Traceback (most recent call last)",
      "\u001b[0;32m<ipython-input-20-dded8e67755b>\u001b[0m in \u001b[0;36m<module>\u001b[0;34m\u001b[0m\n\u001b[1;32m     10\u001b[0m \u001b[0;34m\u001b[0m\u001b[0m\n\u001b[1;32m     11\u001b[0m \u001b[0;34m\u001b[0m\u001b[0m\n\u001b[0;32m---> 12\u001b[0;31m \u001b[0mprint\u001b[0m\u001b[0;34m(\u001b[0m\u001b[0mCnkD\u001b[0m\u001b[0;34m(\u001b[0m\u001b[0;36m100\u001b[0m\u001b[0;34m,\u001b[0m\u001b[0;36m80\u001b[0m\u001b[0;34m)\u001b[0m\u001b[0;34m)\u001b[0m\u001b[0;34m\u001b[0m\u001b[0;34m\u001b[0m\u001b[0m\n\u001b[0m",
      "\u001b[0;32m<ipython-input-20-dded8e67755b>\u001b[0m in \u001b[0;36mCnkD\u001b[0;34m(n, k)\u001b[0m\n\u001b[1;32m      1\u001b[0m \u001b[0;32mimport\u001b[0m \u001b[0mmath\u001b[0m\u001b[0;34m\u001b[0m\u001b[0;34m\u001b[0m\u001b[0m\n\u001b[1;32m      2\u001b[0m \u001b[0;32mdef\u001b[0m \u001b[0mCnkD\u001b[0m\u001b[0;34m(\u001b[0m\u001b[0mn\u001b[0m\u001b[0;34m,\u001b[0m\u001b[0mk\u001b[0m\u001b[0;34m)\u001b[0m\u001b[0;34m:\u001b[0m\u001b[0;34m\u001b[0m\u001b[0;34m\u001b[0m\u001b[0m\n\u001b[0;32m----> 3\u001b[0;31m     \u001b[0mC\u001b[0m\u001b[0;34m=\u001b[0m\u001b[0mdefaultdict\u001b[0m\u001b[0;34m(\u001b[0m\u001b[0mint\u001b[0m\u001b[0;34m)\u001b[0m\u001b[0;34m\u001b[0m\u001b[0;34m\u001b[0m\u001b[0m\n\u001b[0m\u001b[1;32m      4\u001b[0m     \u001b[0;32mfor\u001b[0m \u001b[0mrow\u001b[0m \u001b[0;32min\u001b[0m \u001b[0mrange\u001b[0m\u001b[0;34m(\u001b[0m\u001b[0mn\u001b[0m\u001b[0;34m+\u001b[0m\u001b[0;36m1\u001b[0m\u001b[0;34m)\u001b[0m\u001b[0;34m:\u001b[0m\u001b[0;34m\u001b[0m\u001b[0;34m\u001b[0m\u001b[0m\n\u001b[1;32m      5\u001b[0m         \u001b[0mC\u001b[0m\u001b[0;34m[\u001b[0m\u001b[0mrow\u001b[0m\u001b[0;34m,\u001b[0m\u001b[0;36m0\u001b[0m\u001b[0;34m]\u001b[0m\u001b[0;34m=\u001b[0m\u001b[0;36m1\u001b[0m\u001b[0;34m\u001b[0m\u001b[0;34m\u001b[0m\u001b[0m\n",
      "\u001b[0;31mNameError\u001b[0m: name 'defaultdict' is not defined"
     ]
    }
   ],
   "source": [
    "\n",
    "def CnkD(n,k):\n",
    "    C=defaultdict(int)\n",
    "    for row in range(n+1):\n",
    "        C[row,0]=1\n",
    "        for col in range(1,k+1):\n",
    "            if col <= row:\n",
    "                C[row,col]=C[row-1,col-1]+C[row-1,col]\n",
    "    return C[n,k]\n",
    "\n",
    "\n",
    "print(CnkD(100,80))"
   ]
  },
  {
   "cell_type": "code",
   "execution_count": 25,
   "metadata": {},
   "outputs": [],
   "source": [
    "def CnkD(n,k):\n",
    "\n",
    "    C=defaultdict(int)\n",
    "\n",
    "    for row in range(n+1):\n",
    "\n",
    "        C[row,0]=1\n",
    "\n",
    "    for col in range(1,k+1):\n",
    "\n",
    "        if col <= row:\n",
    "\n",
    "            C[row,col]=C[row-1,col-1]+C[row-1,col]\n",
    "\n",
    "    return C[n,k]\n",
    "\n"
   ]
  },
  {
   "cell_type": "code",
   "execution_count": 28,
   "metadata": {},
   "outputs": [],
   "source": [
    "#binomial\n",
    "def bin_coef_dp(n,k):\n",
    "\n",
    "    C=defaultdict(int)\n",
    "\n",
    "    for row in range(n+1):\n",
    "\n",
    "        C[row,0]=1\n",
    "\n",
    "    for col in range(1,k+1):\n",
    "\n",
    "        if col <= row:\n",
    "\n",
    "            C[row,col]=C[row-1,col-1]+C[row-1,col]\n",
    "\n",
    "    return C[n,k]\n",
    "\n"
   ]
  },
  {
   "cell_type": "code",
   "execution_count": null,
   "metadata": {},
   "outputs": [],
   "source": []
  }
 ],
 "metadata": {
  "kernelspec": {
   "display_name": "Python 3",
   "language": "python",
   "name": "python3"
  },
  "language_info": {
   "codemirror_mode": {
    "name": "ipython",
    "version": 3
   },
   "file_extension": ".py",
   "mimetype": "text/x-python",
   "name": "python",
   "nbconvert_exporter": "python",
   "pygments_lexer": "ipython3",
   "version": "3.7.4"
  }
 },
 "nbformat": 4,
 "nbformat_minor": 2
}
