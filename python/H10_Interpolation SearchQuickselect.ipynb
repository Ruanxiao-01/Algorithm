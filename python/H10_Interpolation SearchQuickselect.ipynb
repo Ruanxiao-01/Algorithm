{
 "cells": [
  {
   "cell_type": "code",
   "execution_count": 10,
   "metadata": {},
   "outputs": [
    {
     "name": "stdout",
     "output_type": "stream",
     "text": [
      "The original array： [1, 2, 5, 6, 9, 10, 15]\n",
      "After Interpolation search, the number we search is at index 5\n"
     ]
    }
   ],
   "source": [
    "#Interpolation Search\n",
    "def Interpolation_search(my_list, key):\n",
    "    left = 0\n",
    "    right = len(my_list)-1\n",
    "    while left <= right:\n",
    "        mid = left + int((right - left) * (key - my_list[left]) / (my_list[right] - my_list[left]))\n",
    "        if key < my_list[mid]:\n",
    "            right = mid - 1\n",
    "        elif key > my_list[mid]:\n",
    "            left = mid + 1\n",
    "        else:\n",
    "            return mid\n",
    "    return \"None\"\n",
    "\n",
    "\n",
    "if __name__ == \"__main__\":\n",
    "    my_list = [1, 2, 5, 6, 9, 10, 15]\n",
    "    print(\"The original array：\", my_list)\n",
    "    print(\"After Interpolation search, the number we search is at index\", Interpolation_search(my_list, 10))\n"
   ]
  },
  {
   "cell_type": "code",
   "execution_count": 11,
   "metadata": {},
   "outputs": [
    {
     "name": "stdout",
     "output_type": "stream",
     "text": [
      "K-th smallest element is 23\n"
     ]
    }
   ],
   "source": [
    "#Quickselect \n",
    "def partition(arr, l, r):\n",
    "\t\n",
    "\tx = arr[r]\n",
    "\ti = l\n",
    "\tfor j in range(l, r):\n",
    "\t\t\n",
    "\t\tif arr[j] <= x:\n",
    "\t\t\tarr[i], arr[j] = arr[j], arr[i]\n",
    "\t\t\ti += 1\n",
    "\t\t\t\n",
    "\tarr[i], arr[r] = arr[r], arr[i]\n",
    "\treturn i\n",
    "\n",
    "\n",
    "def selection(arr, l, r, k):\n",
    "\n",
    "\tif (k > 0 and k <= r - l + 1):\n",
    "\t\tindex = partition(arr, l, r)\n",
    "\n",
    "\n",
    "\t\tif (index - l == k - 1):\n",
    "\t\t\treturn arr[index]\n",
    "\n",
    "\t\tif (index - l > k - 1):\n",
    "\t\t\treturn selection(arr, l, index - 1, k)\n",
    "\n",
    "\t\treturn selection(arr, index + 1, r,\n",
    "\t\t\t\t\t\t\tk - index + l - 1)\n",
    "\tprint(\"Index out of bound\")\n",
    "\n",
    "\n",
    "arr = [ 23, 35, 52, 18, 26, 11, 36 ]\n",
    "n = len(arr)\n",
    "k = 3\n",
    "print(\"K-th smallest element is \", end = \"\")\n",
    "print(selection(arr, 0, n - 1, k))"
   ]
  },
  {
   "cell_type": "code",
   "execution_count": null,
   "metadata": {},
   "outputs": [],
   "source": []
  }
 ],
 "metadata": {
  "kernelspec": {
   "display_name": "Python 3",
   "language": "python",
   "name": "python3"
  },
  "language_info": {
   "codemirror_mode": {
    "name": "ipython",
    "version": 3
   },
   "file_extension": ".py",
   "mimetype": "text/x-python",
   "name": "python",
   "nbconvert_exporter": "python",
   "pygments_lexer": "ipython3",
   "version": "3.7.4"
  }
 },
 "nbformat": 4,
 "nbformat_minor": 2
}
