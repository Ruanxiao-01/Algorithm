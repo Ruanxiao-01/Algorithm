{
 "cells": [
  {
   "cell_type": "code",
   "execution_count": 1,
   "metadata": {},
   "outputs": [
    {
     "name": "stderr",
     "output_type": "stream",
     "text": [
      "UsageError: Line magic function `%timeit[print(sequentialSearch(testlist,5))]` not found.\n"
     ]
    }
   ],
   "source": [
    "#有序数组查找\n",
    "def sequentialSearch(list, item):\n",
    "    found = False;\n",
    "    pos = 0;\n",
    "    stop = False;\n",
    "    while pos < len(list) and not found and not stop:\n",
    "        if list[pos] ==  item:\n",
    "            found = True;\n",
    "        else: #else: if : 分开\n",
    "            if list[pos] > item:\n",
    "                stop = True;\n",
    "            else:\n",
    "                pos = pos + 1;\n",
    "    return found;\n",
    "\n",
    "testlist = [2,3,5,6,3,7]\n",
    "%timeit[print(sequentialSearch(testlist,5))]\n",
    "%timeit[print(sequentialSearch(testlist,8))]\n",
    "    "
   ]
  },
  {
   "cell_type": "code",
   "execution_count": null,
   "metadata": {},
   "outputs": [],
   "source": []
  }
 ],
 "metadata": {
  "kernelspec": {
   "display_name": "Python 3",
   "language": "python",
   "name": "python3"
  },
  "language_info": {
   "codemirror_mode": {
    "name": "ipython",
    "version": 3
   },
   "file_extension": ".py",
   "mimetype": "text/x-python",
   "name": "python",
   "nbconvert_exporter": "python",
   "pygments_lexer": "ipython3",
   "version": "3.7.4"
  }
 },
 "nbformat": 4,
 "nbformat_minor": 2
}
