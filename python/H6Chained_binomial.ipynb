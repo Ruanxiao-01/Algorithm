{
 "cells": [
  {
   "cell_type": "code",
   "execution_count": 29,
   "metadata": {},
   "outputs": [
    {
     "name": "stdout",
     "output_type": "stream",
     "text": [
      "[0, 15750, 7875, 9375, 11875, 15125]\n",
      "[0, 0, 2625, 4375, 7125, 10500]\n",
      "[0, 0, 0, 750, 2500, 5375]\n",
      "[0, 0, 0, 0, 1000, 3500]\n",
      "[0, 0, 0, 0, 0, 5000]\n",
      "[0, 0, 0, 0, 0, 0]\n",
      "( ( A[ 1 ] ( A[ 2 ] A[ 3 ] ) ) ( ( A[ 4 ] A[ 5 ] ) A[ 6 ] ) ) "
     ]
    }
   ],
   "source": [
    "#Chained matrix multiplication\n",
    "def Matrix(n):\n",
    "    for r in range(2, n + 1):\n",
    "        for i in range(1, n - r + 2):\n",
    "            j = i + r - 1\n",
    "            m[i][j] = m[i + 1][j] + p[i - 1] * p[i] * p[j]\n",
    "            s[i][j] = i\n",
    "            for k in range(i + 1, j):\n",
    "                t = m[i][k] + m[k + 1][j] + p[i - 1] * p[k] * p[j]\n",
    "                if t < m[i][j]:\n",
    "                    m[i][j] = t\n",
    "                    s[i][j] = k\n",
    "\n",
    "\n",
    "def cout(i, j):\n",
    "    if i == j:\n",
    "        print('A[', i, ']', end=' ')\n",
    "        return\n",
    "    print('(', end=' ')\n",
    "    cout(i, s[i][j])\n",
    "    cout(s[i][j] + 1, j) \n",
    "    print(')', end=' ')\n",
    "\n",
    "\n",
    "if __name__ == '__main__':\n",
    "    N = 7  \n",
    "    p = [30, 35, 15, 5, 10, 20, 25]\n",
    "    m = [[0 for _ in range(0, N)] for _ in range(0, N)]\n",
    "    s = [[0 for _ in range(0, N)] for _ in range(0, N)]\n",
    "\n",
    "    Matrix(N - 1)\n",
    "    for i in m[1:]:\n",
    "        print(i[1:])\n",
    "    cout(1, N - 1)\n",
    "\n"
   ]
  },
  {
   "cell_type": "code",
   "execution_count": 31,
   "metadata": {},
   "outputs": [],
   "source": [
    "#binomial coefficient\n",
    "def bin_coef_dp(n,k):\n",
    "\n",
    "    C=defaultdict(int)\n",
    "\n",
    "    for row in range(n+1):\n",
    "\n",
    "        C[row,0]=1\n",
    "\n",
    "    for col in range(1,k+1):\n",
    "\n",
    "        if col <= row:\n",
    "\n",
    "            C[row,col]=C[row-1,col-1]+C[row-1,col]\n",
    "\n",
    "    return C[n,k]\n",
    "\n",
    "\n"
   ]
  },
  {
   "cell_type": "code",
   "execution_count": null,
   "metadata": {},
   "outputs": [],
   "source": []
  }
 ],
 "metadata": {
  "kernelspec": {
   "display_name": "Python 3",
   "language": "python",
   "name": "python3"
  },
  "language_info": {
   "codemirror_mode": {
    "name": "ipython",
    "version": 3
   },
   "file_extension": ".py",
   "mimetype": "text/x-python",
   "name": "python",
   "nbconvert_exporter": "python",
   "pygments_lexer": "ipython3",
   "version": "3.7.4"
  }
 },
 "nbformat": 4,
 "nbformat_minor": 2
}
