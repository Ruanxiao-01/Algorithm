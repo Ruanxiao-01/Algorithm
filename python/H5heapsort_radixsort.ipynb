{
 "cells": [
  {
   "cell_type": "code",
   "execution_count": 13,
   "metadata": {},
   "outputs": [
    {
     "name": "stdout",
     "output_type": "stream",
     "text": [
      "[11, 23, 26, 34, 35, 36, 52]\n"
     ]
    }
   ],
   "source": [
    "#heapsort\n",
    "def heapify(arr, n, i):\n",
    "    largest = i\n",
    "    l = 2 * i + 1 \n",
    "    r = 2 * i + 2 \n",
    "    if l < n and arr[i] < arr[l]:\n",
    "        largest = l\n",
    "    if r < n and arr[largest] < arr[r]:\n",
    "        largest = r\n",
    "    if largest != i:\n",
    "        arr[i], arr[largest] = arr[largest], arr[i]  \n",
    "        heapify(arr, n, largest)\n",
    "\n",
    "def heapSort(arr):\n",
    "    n = len(arr)\n",
    "    for i in range(n, -1, -1):\n",
    "        heapify(arr, n, i)\n",
    "    for i in range(n - 1, 0, -1):\n",
    "        \n",
    "        arr[i], arr[0] = arr[0], arr[i] \n",
    "        heapify(arr, i, 0)\n",
    "    return arr\n",
    "\n",
    "arr = [35,26,34,23,11,36,52]\n",
    "heapSort(arr)\n",
    "n = len(arr)\n",
    "print(arr)"
   ]
  },
  {
   "cell_type": "code",
   "execution_count": 14,
   "metadata": {},
   "outputs": [
    {
     "name": "stdout",
     "output_type": "stream",
     "text": [
      "[1, 2, 4, 5, 8, 10, 20, 21, 63, 65, 98, 587, 695, 999]\n"
     ]
    }
   ],
   "source": [
    "def radix_sort(arr):\n",
    "    maxi = max(arr)  \n",
    "    d = 0  \n",
    "    while 10 ** d <= maxi:\n",
    "        buckets = [[] for _ in range(10)]  \n",
    "        for value in arr:\n",
    "            digit = (value // (10 ** d)) % 10  \n",
    "            buckets[digit].append(value)\n",
    "       \n",
    "        arr.clear()\n",
    "        for buc in buckets:  \n",
    "            arr.extend(buc) \n",
    "        d += 1\n",
    "\n",
    "\n",
    "if __name__ == '__main__':\n",
    "    numbers = [10, 20, 1, 2, 5, 8, 999, 65, 63, 98, 587, 695, 21, 4]\n",
    "    radix_sort(numbers)\n",
    "    print(numbers)\n",
    "    \n",
    "\n",
    "\n"
   ]
  },
  {
   "cell_type": "code",
   "execution_count": null,
   "metadata": {},
   "outputs": [],
   "source": []
  }
 ],
 "metadata": {
  "kernelspec": {
   "display_name": "Python 3",
   "language": "python",
   "name": "python3"
  },
  "language_info": {
   "codemirror_mode": {
    "name": "ipython",
    "version": 3
   },
   "file_extension": ".py",
   "mimetype": "text/x-python",
   "name": "python",
   "nbconvert_exporter": "python",
   "pygments_lexer": "ipython3",
   "version": "3.7.4"
  }
 },
 "nbformat": 4,
 "nbformat_minor": 2
}
