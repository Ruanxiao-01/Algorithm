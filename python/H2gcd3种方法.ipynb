{
 "cells": [
  {
   "cell_type": "code",
   "execution_count": 9,
   "metadata": {},
   "outputs": [
    {
     "name": "stdout",
     "output_type": "stream",
     "text": [
      "The GCD for 6 and 8 2\n",
      "0.8274315549999756\n"
     ]
    }
   ],
   "source": [
    "#gcd最大公约数\n",
    "#Consecutive Integer Checking Algorithm\n",
    "import timeit\n",
    "def GCD(m,n):\n",
    "    t = min(m, n);\n",
    "    for i in range(1, t + 1):\n",
    "        if m % i == 0 and n % i == 0:\n",
    "            gcd = i\n",
    "    return gcd\n",
    "\n",
    "\n",
    "print(\"The GCD for 6 and 8 is \", GCD(15, 12))\n",
    "print(timeit.timeit('GCD(15, 12)', setup = 'from __main__ import GCD'))"
   ]
  },
  {
   "cell_type": "code",
   "execution_count": 11,
   "metadata": {},
   "outputs": [
    {
     "name": "stdout",
     "output_type": "stream",
     "text": [
      "The GCD for 15 and 12 is 3\n",
      "1.0643965570000091\n"
     ]
    }
   ],
   "source": [
    "#Euclid's Algorithm\n",
    "import timeit\n",
    "def gcd_euclid(a,b):\n",
    "    if b == 0:\n",
    "        return a\n",
    "    else:\n",
    "        return gcd_euclid(b, a % b)\n",
    "print(\"The GCD for 15 and 12 is\", gcd_euclid(15, 12))\n",
    "print(timeit.timeit('GCD(15, 12)', setup = 'from __main__ import GCD'))"
   ]
  },
  {
   "cell_type": "code",
   "execution_count": 12,
   "metadata": {},
   "outputs": [
    {
     "name": "stdout",
     "output_type": "stream",
     "text": [
      "The GCD for 15 and 12 is 3\n",
      "1.0888612390001526\n"
     ]
    }
   ],
   "source": [
    "#middle school algorithm\n",
    "import numpy as np\n",
    "import timeit\n",
    "def primefactor(num):\n",
    "    k = 2\n",
    "    arr = []\n",
    "    while k <= num:\n",
    "        if num % k == 0:\n",
    "            arr.append(k)\n",
    "            num /= k;\n",
    "        else: \n",
    "            k += 1\n",
    "    return arr\n",
    "def mid_gcd(m,n):\n",
    "    if m == 0 or n == 0:\n",
    "        print(\"ERROR\")\n",
    "        \n",
    "    arr1 = primefactor(m)\n",
    "    arr2 = primefactor(n)\n",
    "    \n",
    "    product1 = np.prod(arr1)\n",
    "    product2 = np.prod(arr2)\n",
    "    \n",
    "    if product1 % product2 == 0:\n",
    "        return min(product1, product2)\n",
    "    \n",
    "    arr = [x for x in arr1 if x in arr2]\n",
    "    \n",
    "    product = np.prod(arr)\n",
    "    return product\n",
    "\n",
    "\n",
    "print(\"The GCD for 15 and 12 is\", mid_gcd(15, 12))\n",
    "print(timeit.timeit('GCD(15, 12)', setup = 'from __main__ import GCD'))"
   ]
  },
  {
   "cell_type": "code",
   "execution_count": 14,
   "metadata": {},
   "outputs": [
    {
     "name": "stdout",
     "output_type": "stream",
     "text": [
      "enter the number1: 24\n",
      "enter the number2: 18\n",
      "The GCD for 24 and 18 is 6\n",
      "The GCD for 6 and 8 is  3\n",
      "1.0613614060002874\n"
     ]
    }
   ],
   "source": [
    "#gcd最大公约数\n",
    "#Consecutive Integer Checking Algorithm\n",
    "import timeit\n",
    "def GCD(m,n):\n",
    "    t = min(m, n);\n",
    "    for i in range(1, t + 1):\n",
    "        if m % i == 0 and n % i == 0:\n",
    "            gcd = i\n",
    "    return gcd\n",
    "\n",
    "num1 = int(input(\"enter the number1: \"))\n",
    "num2 = int(input(\"enter the number2: \"))\n",
    "print(\"The GCD for\", num1,\"and\", num2, \"is\", GCD(num1, num2))\n",
    "\n",
    "print(\"The GCD for 6 and 8 is \", GCD(15, 12))\n",
    "print(timeit.timeit('GCD(15, 12)', setup = 'from __main__ import GCD'))"
   ]
  },
  {
   "cell_type": "code",
   "execution_count": null,
   "metadata": {},
   "outputs": [],
   "source": []
  }
 ],
 "metadata": {
  "kernelspec": {
   "display_name": "Python 3",
   "language": "python",
   "name": "python3"
  },
  "language_info": {
   "codemirror_mode": {
    "name": "ipython",
    "version": 3
   },
   "file_extension": ".py",
   "mimetype": "text/x-python",
   "name": "python",
   "nbconvert_exporter": "python",
   "pygments_lexer": "ipython3",
   "version": "3.7.4"
  }
 },
 "nbformat": 4,
 "nbformat_minor": 2
}
