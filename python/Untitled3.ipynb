{
 "cells": [
  {
   "cell_type": "code",
   "execution_count": 49,
   "metadata": {},
   "outputs": [
    {
     "name": "stdout",
     "output_type": "stream",
     "text": [
      "[1, 6, 27, 36, 56, 67]\n"
     ]
    }
   ],
   "source": [
    "#Quicksort\n",
    "def quick_sort(list, low, high):\n",
    "    if low < high:\n",
    "        k_index = deal_list(list, low, high)\n",
    "        quick_sort(list, low, k_index - 1)\n",
    "        quick_sort(list, k_index + 1, high)\n",
    "\n",
    "def deal_list(list, low, high):\n",
    "    left = low\n",
    "    right = high\n",
    "    k = list[low]\n",
    "    \n",
    "    while left < right:\n",
    "        while list[right] > k:\n",
    "            right -= 1\n",
    "        while list[left] <= k:\n",
    "            left +=1\n",
    "        if left < right:\n",
    "            list[right], list[left] = list[left], list[right]\n",
    "    list[low] = list[right]\n",
    "    list[right] = k\n",
    "    return right\n",
    "\n",
    "if __name__ == '__main__':\n",
    "    nums = [1,6,56,27,67,36]\n",
    "    quick_sort(nums,0,len(nums) - 1)\n",
    "    print(nums)"
   ]
  },
  {
   "cell_type": "code",
   "execution_count": 50,
   "metadata": {},
   "outputs": [
    {
     "name": "stdout",
     "output_type": "stream",
     "text": [
      "[1, 6, 27, 36, 56, 67]\n"
     ]
    }
   ],
   "source": [
    "#Mergesort\n",
    "def merge(left,right):\n",
    "    res = []\n",
    "    while len(left) > 0 and len(right) > 0:\n",
    "        if left[0] < right[0]:\n",
    "            res.append(left.pop(0))\n",
    "        else:\n",
    "            res.append(right.pop(0))\n",
    "    if left:\n",
    "        res.extend(left)\n",
    "    if right:\n",
    "        res.extend(right)\n",
    "    return res\n",
    "\n",
    "def mergeSort(arr):\n",
    "    n = len(arr)\n",
    "    if n < 2:\n",
    "        return arr\n",
    "    mid = n // 2\n",
    "    left = arr[:mid]\n",
    "    right = arr[mid:]\n",
    "    \n",
    "    left_sort = mergeSort(left)\n",
    "    right_sort = mergeSort(right)\n",
    "    return merge(left_sort,right_sort)\n",
    "\n",
    "if __name__ == '__main__':\n",
    "    nums = [1,6,56,27,67,36]\n",
    "    print(mergeSort(nums))"
   ]
  },
  {
   "cell_type": "code",
   "execution_count": 51,
   "metadata": {},
   "outputs": [
    {
     "name": "stdout",
     "output_type": "stream",
     "text": [
      "[1, 6, 27, 36, 56, 67]\n"
     ]
    }
   ],
   "source": [
    "#Quicksort\n",
    "def quick_sort(list, low, high):\n",
    "    if low < high:\n",
    "        k_index = deal_list(list, low, high)\n",
    "        quick_sort(list, low, k_index - 1)\n",
    "        quick_sort(list, k_index + 1, high)\n",
    "\n",
    "def deal_list(list, low, high):\n",
    "    left = low\n",
    "    right = high\n",
    "    k = list[low]\n",
    "    \n",
    "    while left < right:\n",
    "        while list[right] > k:\n",
    "            right -= 1\n",
    "        while list[left] <= k:\n",
    "            left +=1\n",
    "        if left < right:\n",
    "            list[right], list[left] = list[left], list[right]\n",
    "    list[low] = list[right]\n",
    "    list[right] = k\n",
    "    return right\n",
    "\n",
    "if __name__ == '__main__':\n",
    "    nums = [1,6,56,27,67,36]\n",
    "    quick_sort(nums,0,len(nums) - 1)\n",
    "    print(nums)\n",
    "    "
   ]
  },
  {
   "cell_type": "code",
   "execution_count": null,
   "metadata": {},
   "outputs": [],
   "source": []
  }
 ],
 "metadata": {
  "kernelspec": {
   "display_name": "Python 3",
   "language": "python",
   "name": "python3"
  },
  "language_info": {
   "codemirror_mode": {
    "name": "ipython",
    "version": 3
   },
   "file_extension": ".py",
   "mimetype": "text/x-python",
   "name": "python",
   "nbconvert_exporter": "python",
   "pygments_lexer": "ipython3",
   "version": "3.7.4"
  }
 },
 "nbformat": 4,
 "nbformat_minor": 2
}
