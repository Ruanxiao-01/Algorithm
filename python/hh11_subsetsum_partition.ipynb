{
 "cells": [
  {
   "cell_type": "code",
   "execution_count": 9,
   "metadata": {},
   "outputs": [
    {
     "name": "stdout",
     "output_type": "stream",
     "text": [
      "Found a subset with given sum\n"
     ]
    }
   ],
   "source": [
    "# A recursive solution for subset sum\n",
    "# problem\n",
    "\n",
    "# Returns true if there is a subset\n",
    "# of set[] with sun equal to given sum\n",
    "def isSubsetSum(set, n, sum) :\n",
    "    if (sum == 0):\n",
    "        return True\n",
    "    if (n == 0 and sum != 0) :\n",
    "        return False\n",
    "    \n",
    "    if (set[n - 1] > sum) :\n",
    "        return isSubsetSum(set, n - 1, sum);\n",
    "    \n",
    "    return isSubsetSum(set, n-1, sum) or isSubsetSum(set, n-1, sum-set[n-1])\n",
    "\n",
    "set = [2,35,46,26,12,6,13]\n",
    "sum = 72\n",
    "n = len(set)\n",
    "if (isSubsetSum(set, n, sum) == True):\n",
    "    print(\"Found a subset with given sum\")\n",
    "else:\n",
    "    print(\"Nosubset with given sum\")\n",
    " "
   ]
  },
  {
   "cell_type": "code",
   "execution_count": 17,
   "metadata": {},
   "outputs": [
    {
     "ename": "TypeError",
     "evalue": "'int' object is not callable",
     "output_type": "error",
     "traceback": [
      "\u001b[0;31m---------------------------------------------------------------------------\u001b[0m",
      "\u001b[0;31mTypeError\u001b[0m                                 Traceback (most recent call last)",
      "\u001b[0;32m<ipython-input-17-3dfd6ee7b6c2>\u001b[0m in \u001b[0;36m<module>\u001b[0;34m\u001b[0m\n\u001b[1;32m     42\u001b[0m     \u001b[0mnums\u001b[0m \u001b[0;34m=\u001b[0m \u001b[0;34m[\u001b[0m\u001b[0;36m7\u001b[0m\u001b[0;34m,\u001b[0m \u001b[0;36m3\u001b[0m\u001b[0;34m,\u001b[0m \u001b[0;36m1\u001b[0m\u001b[0;34m,\u001b[0m \u001b[0;36m5\u001b[0m\u001b[0;34m,\u001b[0m \u001b[0;36m4\u001b[0m\u001b[0;34m,\u001b[0m \u001b[0;36m8\u001b[0m\u001b[0;34m]\u001b[0m\u001b[0;34m\u001b[0m\u001b[0;34m\u001b[0m\u001b[0m\n\u001b[1;32m     43\u001b[0m \u001b[0;34m\u001b[0m\u001b[0m\n\u001b[0;32m---> 44\u001b[0;31m     \u001b[0;32mif\u001b[0m \u001b[0mpartition\u001b[0m\u001b[0;34m(\u001b[0m\u001b[0mnums\u001b[0m\u001b[0;34m)\u001b[0m\u001b[0;34m:\u001b[0m\u001b[0;34m\u001b[0m\u001b[0;34m\u001b[0m\u001b[0m\n\u001b[0m\u001b[1;32m     45\u001b[0m         \u001b[0mprint\u001b[0m\u001b[0;34m(\u001b[0m\u001b[0;34m'Set can be partitioned'\u001b[0m\u001b[0;34m)\u001b[0m\u001b[0;34m\u001b[0m\u001b[0;34m\u001b[0m\u001b[0m\n\u001b[1;32m     46\u001b[0m     \u001b[0;32melse\u001b[0m\u001b[0;34m:\u001b[0m\u001b[0;34m\u001b[0m\u001b[0;34m\u001b[0m\u001b[0m\n",
      "\u001b[0;32m<ipython-input-17-3dfd6ee7b6c2>\u001b[0m in \u001b[0;36mpartition\u001b[0;34m(nums)\u001b[0m\n\u001b[1;32m     30\u001b[0m \u001b[0;32mdef\u001b[0m \u001b[0mpartition\u001b[0m\u001b[0;34m(\u001b[0m\u001b[0mnums\u001b[0m\u001b[0;34m)\u001b[0m\u001b[0;34m:\u001b[0m\u001b[0;34m\u001b[0m\u001b[0;34m\u001b[0m\u001b[0m\n\u001b[1;32m     31\u001b[0m \u001b[0;34m\u001b[0m\u001b[0m\n\u001b[0;32m---> 32\u001b[0;31m     \u001b[0mtotal\u001b[0m \u001b[0;34m=\u001b[0m \u001b[0msum\u001b[0m\u001b[0;34m(\u001b[0m\u001b[0mnums\u001b[0m\u001b[0;34m)\u001b[0m\u001b[0;34m\u001b[0m\u001b[0;34m\u001b[0m\u001b[0m\n\u001b[0m\u001b[1;32m     33\u001b[0m \u001b[0;34m\u001b[0m\u001b[0m\n\u001b[1;32m     34\u001b[0m     \u001b[0;31m# return true if the sum is even and the list can be divided into\u001b[0m\u001b[0;34m\u001b[0m\u001b[0;34m\u001b[0m\u001b[0;34m\u001b[0m\u001b[0m\n",
      "\u001b[0;31mTypeError\u001b[0m: 'int' object is not callable"
     ]
    }
   ],
   "source": [
    "# Returns true if there exists a sublist of list `nums[0…n]` with the given total\n",
    "def subsetSum(nums, n, total):\n",
    " \n",
    "    # return true if the sum becomes 0 (subset found)\n",
    "    if total == 0:\n",
    "        return True\n",
    " \n",
    "    # base case: no items left or sum becomes negative\n",
    "    if n < 0 or total < 0:\n",
    "        return False\n",
    " \n",
    "    # Case 1. Include the current item `nums[n]` in the subset and recur\n",
    "    # for remaining items `n-1` with the remaining sum `total-nums[n]`\n",
    "    include = subsetSum(nums, n - 1, total - nums[n])\n",
    " \n",
    "    # return true if we get subset by including the current item\n",
    "    if include:\n",
    "        return True\n",
    " \n",
    "    # Case 2. Exclude the current item `nums[n]` from the subset and recur for\n",
    "    # remaining items `n-1`\n",
    "    exclude = subsetSum(nums, n - 1, total)\n",
    " \n",
    "    # return true if we get subset by excluding the current item\n",
    "    return exclude\n",
    " \n",
    " \n",
    "# Returns true if given list `nums[0…n-1]` can be divided into two\n",
    "# sublists with equal sum\n",
    "def partition(nums):\n",
    " \n",
    "    total = sum(nums)\n",
    " \n",
    "    # return true if the sum is even and the list can be divided into\n",
    "    # two sublists with equal sum\n",
    "    return (total & 1) == 0 and subsetSum(nums, len(nums) - 1, total/2)\n",
    " \n",
    " \n",
    "if __name__ == '__main__':\n",
    " \n",
    "    # Input: a set of items\n",
    "    nums = [7, 3, 1, 5, 4, 8]\n",
    " \n",
    "    if partition(nums):\n",
    "        print('Set can be partitioned')\n",
    "    else:\n",
    "        print('Set cannot be partitioned')\n"
   ]
  },
  {
   "cell_type": "code",
   "execution_count": 10,
   "metadata": {},
   "outputs": [
    {
     "name": "stdout",
     "output_type": "stream",
     "text": [
      "Found a subset with given sum\n"
     ]
    }
   ],
   "source": [
    "# A recursive solution for subset sum\n",
    "# problem\n",
    "\n",
    "# Returns true if there is a subset\n",
    "# of set[] with sun equal to given sum\n",
    "def isSubsetSum(set, n, sum) :\n",
    "\t\n",
    "\t# Base Cases\n",
    "\tif (sum == 0) :\n",
    "\t\treturn True\n",
    "\tif (n == 0 and sum != 0) :\n",
    "\t\treturn False\n",
    "\n",
    "\t# If last element is greater than\n",
    "\t# sum, then ignore it\n",
    "\tif (set[n - 1] > sum) :\n",
    "\t\treturn isSubsetSum(set, n - 1, sum);\n",
    "\n",
    "\t# else, check if sum can be obtained\n",
    "\t# by any of the following\n",
    "\t# (a) including the last element\n",
    "\t# (b) excluding the last element\n",
    "\treturn isSubsetSum(set, n-1, sum) or isSubsetSum(set, n-1, sum-set[n-1])\n",
    "\t\n",
    "\t\n",
    "# Driver program to test above function\n",
    "set = [3, 34, 4, 12, 5, 2]\n",
    "sum = 9\n",
    "n = len(set)\n",
    "if (isSubsetSum(set, n, sum) == True) :\n",
    "\tprint(\"Found a subset with given sum\")\n",
    "else :\n",
    "\tprint(\"No subset with given sum\")\n",
    "\t\n",
    "# This code is contributed by Nikita Tiwari.\n"
   ]
  },
  {
   "cell_type": "code",
   "execution_count": null,
   "metadata": {},
   "outputs": [],
   "source": [
    "# Find the most average way for partitions\n",
    "import numpy as np\n",
    "def maximum_partition(sequence, M, nr_partitions, sum_array):\n",
    "    for n in range(2, len(sequence) + 1):\n",
    "        for k in range(2, nr_partitions + 1):\n",
    "            array = []\n",
    "            for i in range(1, n + 1):\n",
    "                select = max(M[i][k - 1], sum_array[n - 1] - sum_array[i - 1])\n",
    "                array.append(select)\n",
    "            M[n][k] = min(array)\n",
    "    return M[len(sequence)][nr_partitions]\n",
    "def init_matrix(sequence, nr_partitions, M, sum_array):\n",
    "    for index in range(len(sequence)):\n",
    "        sum_array.append(sum(sequence[: index + 1]))\n",
    "    for k in range(1, nr_partitions + 1):\n",
    "        M[1][k] = sequence[0]\n",
    "    for n in range(1, len(sequence) + 1):\n",
    "        M[n][1] = sum(sequence[:n])\n",
    "if __name__ == \"__main__\":\n",
    "    # The sequence and the number of partitions\n",
    "    sequence = [9, 8, 7, 1, 2, 3, 4, 5, 6]\n",
    "    partitions = 3\n",
    "   # init\n",
    "    M = np.zeros((len(sequence) + 1, partitions + 1), dtype=int)\n",
    "    sum_array = []\n",
    "    init_matrix(sequence, partitions, M, sum_array)\n",
    "    # call the main function\n",
    "    range_sum_max = maximum_partition(sequence, M, partitions, sum_array)\n",
    "    print(\"Sum of the maximum range:\", range_sum_max)\n",
    "    # split the sequence by using maximum sum of one range\n",
    "    current_sum = 0\n",
    "    for index in range(len(sequence)):\n",
    "        if (current_sum + sequence[index]) > range_sum_max:\n",
    "            print(\"| \", end=\"\")\n",
    "            current_sum = 0\n",
    "        current_sum += sequence[index]\n",
    "        print(sequence[index], end=\" \")\n",
    "    print(\"\\r\")    "
   ]
  },
  {
   "cell_type": "code",
   "execution_count": 16,
   "metadata": {},
   "outputs": [
    {
     "ename": "TypeError",
     "evalue": "'int' object is not callable",
     "output_type": "error",
     "traceback": [
      "\u001b[0;31m---------------------------------------------------------------------------\u001b[0m",
      "\u001b[0;31mTypeError\u001b[0m                                 Traceback (most recent call last)",
      "\u001b[0;32m<ipython-input-16-7ddb249809a8>\u001b[0m in \u001b[0;36m<module>\u001b[0;34m\u001b[0m\n\u001b[1;32m     24\u001b[0m     \u001b[0mM\u001b[0m \u001b[0;34m=\u001b[0m \u001b[0mnp\u001b[0m\u001b[0;34m.\u001b[0m\u001b[0mzeros\u001b[0m\u001b[0;34m(\u001b[0m\u001b[0;34m(\u001b[0m\u001b[0mlen\u001b[0m\u001b[0;34m(\u001b[0m\u001b[0msequence\u001b[0m\u001b[0;34m)\u001b[0m \u001b[0;34m+\u001b[0m \u001b[0;36m1\u001b[0m\u001b[0;34m,\u001b[0m \u001b[0mpartitions\u001b[0m \u001b[0;34m+\u001b[0m \u001b[0;36m1\u001b[0m\u001b[0;34m)\u001b[0m\u001b[0;34m,\u001b[0m \u001b[0mdtype\u001b[0m\u001b[0;34m=\u001b[0m\u001b[0mint\u001b[0m\u001b[0;34m)\u001b[0m\u001b[0;34m\u001b[0m\u001b[0;34m\u001b[0m\u001b[0m\n\u001b[1;32m     25\u001b[0m     \u001b[0msum_array\u001b[0m \u001b[0;34m=\u001b[0m \u001b[0;34m[\u001b[0m\u001b[0;34m]\u001b[0m\u001b[0;34m\u001b[0m\u001b[0;34m\u001b[0m\u001b[0m\n\u001b[0;32m---> 26\u001b[0;31m     \u001b[0minit_matrix\u001b[0m\u001b[0;34m(\u001b[0m\u001b[0msequence\u001b[0m\u001b[0;34m,\u001b[0m \u001b[0mpartitions\u001b[0m\u001b[0;34m,\u001b[0m \u001b[0mM\u001b[0m\u001b[0;34m,\u001b[0m \u001b[0msum_array\u001b[0m\u001b[0;34m)\u001b[0m\u001b[0;34m\u001b[0m\u001b[0;34m\u001b[0m\u001b[0m\n\u001b[0m\u001b[1;32m     27\u001b[0m     \u001b[0;31m# call the main function\u001b[0m\u001b[0;34m\u001b[0m\u001b[0;34m\u001b[0m\u001b[0;34m\u001b[0m\u001b[0m\n\u001b[1;32m     28\u001b[0m     \u001b[0mrange_sum_max\u001b[0m \u001b[0;34m=\u001b[0m \u001b[0mmaximum_partition\u001b[0m\u001b[0;34m(\u001b[0m\u001b[0msequence\u001b[0m\u001b[0;34m,\u001b[0m \u001b[0mM\u001b[0m\u001b[0;34m,\u001b[0m \u001b[0mpartitions\u001b[0m\u001b[0;34m,\u001b[0m \u001b[0msum_array\u001b[0m\u001b[0;34m)\u001b[0m\u001b[0;34m\u001b[0m\u001b[0;34m\u001b[0m\u001b[0m\n",
      "\u001b[0;32m<ipython-input-16-7ddb249809a8>\u001b[0m in \u001b[0;36minit_matrix\u001b[0;34m(sequence, nr_partitions, M, sum_array)\u001b[0m\n\u001b[1;32m     12\u001b[0m \u001b[0;32mdef\u001b[0m \u001b[0minit_matrix\u001b[0m\u001b[0;34m(\u001b[0m\u001b[0msequence\u001b[0m\u001b[0;34m,\u001b[0m \u001b[0mnr_partitions\u001b[0m\u001b[0;34m,\u001b[0m \u001b[0mM\u001b[0m\u001b[0;34m,\u001b[0m \u001b[0msum_array\u001b[0m\u001b[0;34m)\u001b[0m\u001b[0;34m:\u001b[0m\u001b[0;34m\u001b[0m\u001b[0;34m\u001b[0m\u001b[0m\n\u001b[1;32m     13\u001b[0m     \u001b[0;32mfor\u001b[0m \u001b[0mindex\u001b[0m \u001b[0;32min\u001b[0m \u001b[0mrange\u001b[0m\u001b[0;34m(\u001b[0m\u001b[0mlen\u001b[0m\u001b[0;34m(\u001b[0m\u001b[0msequence\u001b[0m\u001b[0;34m)\u001b[0m\u001b[0;34m)\u001b[0m\u001b[0;34m:\u001b[0m\u001b[0;34m\u001b[0m\u001b[0;34m\u001b[0m\u001b[0m\n\u001b[0;32m---> 14\u001b[0;31m         \u001b[0msum_array\u001b[0m\u001b[0;34m.\u001b[0m\u001b[0mappend\u001b[0m\u001b[0;34m(\u001b[0m\u001b[0msum\u001b[0m\u001b[0;34m(\u001b[0m\u001b[0msequence\u001b[0m\u001b[0;34m[\u001b[0m\u001b[0;34m:\u001b[0m \u001b[0mindex\u001b[0m \u001b[0;34m+\u001b[0m \u001b[0;36m1\u001b[0m\u001b[0;34m]\u001b[0m\u001b[0;34m)\u001b[0m\u001b[0;34m)\u001b[0m\u001b[0;34m\u001b[0m\u001b[0;34m\u001b[0m\u001b[0m\n\u001b[0m\u001b[1;32m     15\u001b[0m     \u001b[0;32mfor\u001b[0m \u001b[0mk\u001b[0m \u001b[0;32min\u001b[0m \u001b[0mrange\u001b[0m\u001b[0;34m(\u001b[0m\u001b[0;36m1\u001b[0m\u001b[0;34m,\u001b[0m \u001b[0mnr_partitions\u001b[0m \u001b[0;34m+\u001b[0m \u001b[0;36m1\u001b[0m\u001b[0;34m)\u001b[0m\u001b[0;34m:\u001b[0m\u001b[0;34m\u001b[0m\u001b[0;34m\u001b[0m\u001b[0m\n\u001b[1;32m     16\u001b[0m         \u001b[0mM\u001b[0m\u001b[0;34m[\u001b[0m\u001b[0;36m1\u001b[0m\u001b[0;34m]\u001b[0m\u001b[0;34m[\u001b[0m\u001b[0mk\u001b[0m\u001b[0;34m]\u001b[0m \u001b[0;34m=\u001b[0m \u001b[0msequence\u001b[0m\u001b[0;34m[\u001b[0m\u001b[0;36m0\u001b[0m\u001b[0;34m]\u001b[0m\u001b[0;34m\u001b[0m\u001b[0;34m\u001b[0m\u001b[0m\n",
      "\u001b[0;31mTypeError\u001b[0m: 'int' object is not callable"
     ]
    }
   ],
   "source": [
    "# Find the most average way for partitions\n",
    "import numpy as np\n",
    "def maximum_partition(sequence, M, nr_partitions, sum_array):\n",
    "    for n in range(2, len(sequence) + 1):\n",
    "        for k in range(2, nr_partitions + 1):\n",
    "            array = []\n",
    "            for i in range(1, n + 1):\n",
    "                select = max(M[i][k - 1], sum_array[n - 1] - sum_array[i - 1])\n",
    "                array.append(select)\n",
    "            M[n][k] = min(array)\n",
    "    return M[len(sequence)][nr_partitions]\n",
    "def init_matrix(sequence, nr_partitions, M, sum_array):\n",
    "    for index in range(len(sequence)):\n",
    "        sum_array.append(sum(sequence[: index + 1]))\n",
    "    for k in range(1, nr_partitions + 1):\n",
    "        M[1][k] = sequence[0]\n",
    "    for n in range(1, len(sequence) + 1):\n",
    "        M[n][1] = sum(sequence[:n])\n",
    "if __name__ == \"__main__\":\n",
    "    # The sequence and the number of partitions\n",
    "    sequence = [9, 8, 7, 1, 2, 3, 4, 5, 6]\n",
    "    partitions = 3\n",
    "   # init\n",
    "    M = np.zeros((len(sequence) + 1, partitions + 1), dtype=int)\n",
    "    sum_array = []\n",
    "    init_matrix(sequence, partitions, M, sum_array)\n",
    "    # call the main function\n",
    "    range_sum_max = maximum_partition(sequence, M, partitions, sum_array)\n",
    "    print(\"Sum of the maximum range:\", range_sum_max)\n",
    "    # split the sequence by using maximum sum of one range\n",
    "    current_sum = 0\n",
    "    for index in range(len(sequence)):\n",
    "        if (current_sum + sequence[index]) > range_sum_max:\n",
    "            print(\"| \", end=\"\")\n",
    "            current_sum = 0\n",
    "        current_sum += sequence[index]\n",
    "        print(sequence[index], end=\" \")\n",
    "    print(\"\\r\")    "
   ]
  },
  {
   "cell_type": "code",
   "execution_count": null,
   "metadata": {},
   "outputs": [],
   "source": []
  }
 ],
 "metadata": {
  "kernelspec": {
   "display_name": "Python 3",
   "language": "python",
   "name": "python3"
  },
  "language_info": {
   "codemirror_mode": {
    "name": "ipython",
    "version": 3
   },
   "file_extension": ".py",
   "mimetype": "text/x-python",
   "name": "python",
   "nbconvert_exporter": "python",
   "pygments_lexer": "ipython3",
   "version": "3.7.4"
  }
 },
 "nbformat": 4,
 "nbformat_minor": 2
}
